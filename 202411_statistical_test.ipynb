{
  "nbformat": 4,
  "nbformat_minor": 0,
  "metadata": {
    "colab": {
      "provenance": [],
      "authorship_tag": "ABX9TyMlb+fOM2bbwIj6zSuBS3y8",
      "include_colab_link": true
    },
    "kernelspec": {
      "name": "python3",
      "display_name": "Python 3"
    },
    "language_info": {
      "name": "python"
    }
  },
  "cells": [
    {
      "cell_type": "markdown",
      "metadata": {
        "id": "view-in-github",
        "colab_type": "text"
      },
      "source": [
        "<a href=\"https://colab.research.google.com/github/shcho11/00.Projects_2024/blob/main/202411_statistical_test.ipynb\" target=\"_parent\"><img src=\"https://colab.research.google.com/assets/colab-badge.svg\" alt=\"Open In Colab\"/></a>"
      ]
    },
    {
      "cell_type": "markdown",
      "source": [
        "# **통계적 검정 정리노트**\n",
        "- revision history : 20241127 / 20240908(init)\n",
        "- author : 조송현"
      ],
      "metadata": {
        "id": "O-dIHaoAIxYD"
      }
    },
    {
      "cell_type": "code",
      "execution_count": null,
      "metadata": {
        "colab": {
          "base_uri": "https://localhost:8080/"
        },
        "id": "KN_8y19O1k1i",
        "outputId": "1aeef642-9a3a-4549-bb1f-9366e88b107a"
      },
      "outputs": [
        {
          "output_type": "stream",
          "name": "stdout",
          "text": [
            "Mounted at /content/drive/\n"
          ]
        }
      ],
      "source": [
        "from google.colab import drive\n",
        "drive.mount('/content/drive/')"
      ]
    },
    {
      "cell_type": "code",
      "source": [
        "# basic imports\n",
        "\n",
        "import os\n",
        "import sys\n",
        "import time\n",
        "from datetime import datetime, timedelta\n",
        "import pandas as pd\n",
        "import numpy as np\n",
        "from scipy import stats\n",
        "import openpyxl\n",
        "from mlxtend .frequent_patterns import apriori, association_rules\n",
        "import warnings\n",
        "warnings.filterwarnings(\"ignore\")\n",
        "from tqdm import tqdm"
      ],
      "metadata": {
        "id": "nAjBhlVr1nmU"
      },
      "execution_count": null,
      "outputs": []
    },
    {
      "cell_type": "code",
      "source": [
        "# visualization\n",
        "\n",
        "import matplotlib.pyplot as plt\n",
        "from matplotlib import font_manager, rcParams, style"
      ],
      "metadata": {
        "id": "u1nLbucN2HMZ"
      },
      "execution_count": null,
      "outputs": []
    },
    {
      "cell_type": "markdown",
      "source": [
        "# **통계적 검정 개요**\n",
        "## 차이 관련 검정\n",
        "- **평균(Mu)의 차이**\n",
        "  - 비교대상 모집단 1개 :\n",
        "    - 모분산을 안다 -> (z) 1표본 z검정\n",
        "    - 모분산을 모른다 (t) 1표본 t검정 (ttest_1samp)\n",
        "      - wilcoxon 검정 (정규성불만족시 비모수적 검정)\n",
        "\n",
        "  - 비교대상 모집단 2개 :\n",
        "    - 모분산을 안다 -> (z) 2표본 z검정\n",
        "    - 모분산을 모른다 -> (t) 2표본 t검정 (ttest_ind)\n",
        "      - 독립표본 t검정 (ex. 남/녀간 평균차이)\n",
        "        - mannwhitney-u검정 (정규성불만족시 비모수적 검정)\n",
        "      - 대응표본 t검정 (ex. 1개월뒤, 2개월뒤 반복 측정 case) (ttest_rel)\n",
        "\n",
        "  - 비교대상 모집단 3개 이상 :\n",
        "    - ANOVA 분산분석 (statsmodels.stats.anova)\n",
        "      - 일원 분산분석 (One-way ANOVA) (ex. 한국, 미국, 독일의 평균 키 차이)\n",
        "        - 반복측정 분산분석 (Repeated Measures ANOVA) (1개월뒤, 2개월뒤 반복 측정 case)\n",
        "      - 이원 분산분석 (Two-way ANOVA) (2개 독립변수가 종속변수에 미치는 영향과 상호작용을 동시에 분석할 때)\n",
        "        - 이원 반복측정 분산분석 (Two-way Repeated Measures ANOVA)\n",
        "\n",
        "- **분산(분포)의 차이**\n",
        "  - F 검정 (분산 차이를 검정) (분포가 정규성을 만족할 경우를 전제)\n",
        "  - Levene's test (정규성을 만족하지 않을 때도 사용 가능)\n",
        "  - Bartlett\n",
        "\n",
        "<br>\n",
        "\n",
        "## 관계 관련 검정\n",
        "- **범주형 확률 분포의 적합도 및 독립성**\n",
        "  - chi-square(카이제곱) 검정 (기대분포와의 적합도) (chisquare)\n",
        "  - chi2_contingency 검정 (독립성 검정, 2d) (chi2_contingency)\n",
        "\n",
        "- **범주형 변수 간 관계 분석**\n",
        "  - 교차분석 (범주형자료 A가 또 다른 범주형자료 B에 영향을 주는 지를 확인)\n",
        "- **수치형 변수 간 관계 분석**\n",
        "  - 상관분석(Correlation)\n",
        "- **수치형 변수 간 종속관계(인과관계) 분석**\n",
        "  - 회귀분석(Regression)\n",
        "    - 독립변수 : 종속변수 관계가 1:1 -> 단순회귀분석\n",
        "    - 독립변수 : 종속변수 관게가 N:1 -> 다중회귀분석\n",
        "    - 로지스틱회귀분석 (분류) (statsmodels.formula.api.logit)\n",
        "      - odds ratio분석 (np.exp(md.params)"
      ],
      "metadata": {
        "id": "nJ1iM0qI2L-9"
      }
    },
    {
      "cell_type": "code",
      "source": [
        "from sklearn.datasets import load_iris\n",
        "\n",
        "iris = load_iris()\n",
        "df_iris = pd.DataFrame(iris.data, columns = iris.feature_names)\n",
        "df_iris['target'] = iris.target\n",
        "df_iris.head()"
      ],
      "metadata": {
        "colab": {
          "base_uri": "https://localhost:8080/",
          "height": 206
        },
        "id": "HO_uSb3l5xLf",
        "outputId": "a7d4f289-fbf9-47ec-f7c8-c7bba90e43ee"
      },
      "execution_count": null,
      "outputs": [
        {
          "output_type": "execute_result",
          "data": {
            "text/plain": [
              "   sepal length (cm)  sepal width (cm)  petal length (cm)  petal width (cm)  \\\n",
              "0                5.1               3.5                1.4               0.2   \n",
              "1                4.9               3.0                1.4               0.2   \n",
              "2                4.7               3.2                1.3               0.2   \n",
              "3                4.6               3.1                1.5               0.2   \n",
              "4                5.0               3.6                1.4               0.2   \n",
              "\n",
              "   target  \n",
              "0       0  \n",
              "1       0  \n",
              "2       0  \n",
              "3       0  \n",
              "4       0  "
            ],
            "text/html": [
              "\n",
              "  <div id=\"df-9341c68e-c75b-4d6c-9723-245fbb17263a\" class=\"colab-df-container\">\n",
              "    <div>\n",
              "<style scoped>\n",
              "    .dataframe tbody tr th:only-of-type {\n",
              "        vertical-align: middle;\n",
              "    }\n",
              "\n",
              "    .dataframe tbody tr th {\n",
              "        vertical-align: top;\n",
              "    }\n",
              "\n",
              "    .dataframe thead th {\n",
              "        text-align: right;\n",
              "    }\n",
              "</style>\n",
              "<table border=\"1\" class=\"dataframe\">\n",
              "  <thead>\n",
              "    <tr style=\"text-align: right;\">\n",
              "      <th></th>\n",
              "      <th>sepal length (cm)</th>\n",
              "      <th>sepal width (cm)</th>\n",
              "      <th>petal length (cm)</th>\n",
              "      <th>petal width (cm)</th>\n",
              "      <th>target</th>\n",
              "    </tr>\n",
              "  </thead>\n",
              "  <tbody>\n",
              "    <tr>\n",
              "      <th>0</th>\n",
              "      <td>5.1</td>\n",
              "      <td>3.5</td>\n",
              "      <td>1.4</td>\n",
              "      <td>0.2</td>\n",
              "      <td>0</td>\n",
              "    </tr>\n",
              "    <tr>\n",
              "      <th>1</th>\n",
              "      <td>4.9</td>\n",
              "      <td>3.0</td>\n",
              "      <td>1.4</td>\n",
              "      <td>0.2</td>\n",
              "      <td>0</td>\n",
              "    </tr>\n",
              "    <tr>\n",
              "      <th>2</th>\n",
              "      <td>4.7</td>\n",
              "      <td>3.2</td>\n",
              "      <td>1.3</td>\n",
              "      <td>0.2</td>\n",
              "      <td>0</td>\n",
              "    </tr>\n",
              "    <tr>\n",
              "      <th>3</th>\n",
              "      <td>4.6</td>\n",
              "      <td>3.1</td>\n",
              "      <td>1.5</td>\n",
              "      <td>0.2</td>\n",
              "      <td>0</td>\n",
              "    </tr>\n",
              "    <tr>\n",
              "      <th>4</th>\n",
              "      <td>5.0</td>\n",
              "      <td>3.6</td>\n",
              "      <td>1.4</td>\n",
              "      <td>0.2</td>\n",
              "      <td>0</td>\n",
              "    </tr>\n",
              "  </tbody>\n",
              "</table>\n",
              "</div>\n",
              "    <div class=\"colab-df-buttons\">\n",
              "\n",
              "  <div class=\"colab-df-container\">\n",
              "    <button class=\"colab-df-convert\" onclick=\"convertToInteractive('df-9341c68e-c75b-4d6c-9723-245fbb17263a')\"\n",
              "            title=\"Convert this dataframe to an interactive table.\"\n",
              "            style=\"display:none;\">\n",
              "\n",
              "  <svg xmlns=\"http://www.w3.org/2000/svg\" height=\"24px\" viewBox=\"0 -960 960 960\">\n",
              "    <path d=\"M120-120v-720h720v720H120Zm60-500h600v-160H180v160Zm220 220h160v-160H400v160Zm0 220h160v-160H400v160ZM180-400h160v-160H180v160Zm440 0h160v-160H620v160ZM180-180h160v-160H180v160Zm440 0h160v-160H620v160Z\"/>\n",
              "  </svg>\n",
              "    </button>\n",
              "\n",
              "  <style>\n",
              "    .colab-df-container {\n",
              "      display:flex;\n",
              "      gap: 12px;\n",
              "    }\n",
              "\n",
              "    .colab-df-convert {\n",
              "      background-color: #E8F0FE;\n",
              "      border: none;\n",
              "      border-radius: 50%;\n",
              "      cursor: pointer;\n",
              "      display: none;\n",
              "      fill: #1967D2;\n",
              "      height: 32px;\n",
              "      padding: 0 0 0 0;\n",
              "      width: 32px;\n",
              "    }\n",
              "\n",
              "    .colab-df-convert:hover {\n",
              "      background-color: #E2EBFA;\n",
              "      box-shadow: 0px 1px 2px rgba(60, 64, 67, 0.3), 0px 1px 3px 1px rgba(60, 64, 67, 0.15);\n",
              "      fill: #174EA6;\n",
              "    }\n",
              "\n",
              "    .colab-df-buttons div {\n",
              "      margin-bottom: 4px;\n",
              "    }\n",
              "\n",
              "    [theme=dark] .colab-df-convert {\n",
              "      background-color: #3B4455;\n",
              "      fill: #D2E3FC;\n",
              "    }\n",
              "\n",
              "    [theme=dark] .colab-df-convert:hover {\n",
              "      background-color: #434B5C;\n",
              "      box-shadow: 0px 1px 3px 1px rgba(0, 0, 0, 0.15);\n",
              "      filter: drop-shadow(0px 1px 2px rgba(0, 0, 0, 0.3));\n",
              "      fill: #FFFFFF;\n",
              "    }\n",
              "  </style>\n",
              "\n",
              "    <script>\n",
              "      const buttonEl =\n",
              "        document.querySelector('#df-9341c68e-c75b-4d6c-9723-245fbb17263a button.colab-df-convert');\n",
              "      buttonEl.style.display =\n",
              "        google.colab.kernel.accessAllowed ? 'block' : 'none';\n",
              "\n",
              "      async function convertToInteractive(key) {\n",
              "        const element = document.querySelector('#df-9341c68e-c75b-4d6c-9723-245fbb17263a');\n",
              "        const dataTable =\n",
              "          await google.colab.kernel.invokeFunction('convertToInteractive',\n",
              "                                                    [key], {});\n",
              "        if (!dataTable) return;\n",
              "\n",
              "        const docLinkHtml = 'Like what you see? Visit the ' +\n",
              "          '<a target=\"_blank\" href=https://colab.research.google.com/notebooks/data_table.ipynb>data table notebook</a>'\n",
              "          + ' to learn more about interactive tables.';\n",
              "        element.innerHTML = '';\n",
              "        dataTable['output_type'] = 'display_data';\n",
              "        await google.colab.output.renderOutput(dataTable, element);\n",
              "        const docLink = document.createElement('div');\n",
              "        docLink.innerHTML = docLinkHtml;\n",
              "        element.appendChild(docLink);\n",
              "      }\n",
              "    </script>\n",
              "  </div>\n",
              "\n",
              "\n",
              "<div id=\"df-45f8b47a-c2cb-41b7-8942-59b13e3bd802\">\n",
              "  <button class=\"colab-df-quickchart\" onclick=\"quickchart('df-45f8b47a-c2cb-41b7-8942-59b13e3bd802')\"\n",
              "            title=\"Suggest charts\"\n",
              "            style=\"display:none;\">\n",
              "\n",
              "<svg xmlns=\"http://www.w3.org/2000/svg\" height=\"24px\"viewBox=\"0 0 24 24\"\n",
              "     width=\"24px\">\n",
              "    <g>\n",
              "        <path d=\"M19 3H5c-1.1 0-2 .9-2 2v14c0 1.1.9 2 2 2h14c1.1 0 2-.9 2-2V5c0-1.1-.9-2-2-2zM9 17H7v-7h2v7zm4 0h-2V7h2v10zm4 0h-2v-4h2v4z\"/>\n",
              "    </g>\n",
              "</svg>\n",
              "  </button>\n",
              "\n",
              "<style>\n",
              "  .colab-df-quickchart {\n",
              "      --bg-color: #E8F0FE;\n",
              "      --fill-color: #1967D2;\n",
              "      --hover-bg-color: #E2EBFA;\n",
              "      --hover-fill-color: #174EA6;\n",
              "      --disabled-fill-color: #AAA;\n",
              "      --disabled-bg-color: #DDD;\n",
              "  }\n",
              "\n",
              "  [theme=dark] .colab-df-quickchart {\n",
              "      --bg-color: #3B4455;\n",
              "      --fill-color: #D2E3FC;\n",
              "      --hover-bg-color: #434B5C;\n",
              "      --hover-fill-color: #FFFFFF;\n",
              "      --disabled-bg-color: #3B4455;\n",
              "      --disabled-fill-color: #666;\n",
              "  }\n",
              "\n",
              "  .colab-df-quickchart {\n",
              "    background-color: var(--bg-color);\n",
              "    border: none;\n",
              "    border-radius: 50%;\n",
              "    cursor: pointer;\n",
              "    display: none;\n",
              "    fill: var(--fill-color);\n",
              "    height: 32px;\n",
              "    padding: 0;\n",
              "    width: 32px;\n",
              "  }\n",
              "\n",
              "  .colab-df-quickchart:hover {\n",
              "    background-color: var(--hover-bg-color);\n",
              "    box-shadow: 0 1px 2px rgba(60, 64, 67, 0.3), 0 1px 3px 1px rgba(60, 64, 67, 0.15);\n",
              "    fill: var(--button-hover-fill-color);\n",
              "  }\n",
              "\n",
              "  .colab-df-quickchart-complete:disabled,\n",
              "  .colab-df-quickchart-complete:disabled:hover {\n",
              "    background-color: var(--disabled-bg-color);\n",
              "    fill: var(--disabled-fill-color);\n",
              "    box-shadow: none;\n",
              "  }\n",
              "\n",
              "  .colab-df-spinner {\n",
              "    border: 2px solid var(--fill-color);\n",
              "    border-color: transparent;\n",
              "    border-bottom-color: var(--fill-color);\n",
              "    animation:\n",
              "      spin 1s steps(1) infinite;\n",
              "  }\n",
              "\n",
              "  @keyframes spin {\n",
              "    0% {\n",
              "      border-color: transparent;\n",
              "      border-bottom-color: var(--fill-color);\n",
              "      border-left-color: var(--fill-color);\n",
              "    }\n",
              "    20% {\n",
              "      border-color: transparent;\n",
              "      border-left-color: var(--fill-color);\n",
              "      border-top-color: var(--fill-color);\n",
              "    }\n",
              "    30% {\n",
              "      border-color: transparent;\n",
              "      border-left-color: var(--fill-color);\n",
              "      border-top-color: var(--fill-color);\n",
              "      border-right-color: var(--fill-color);\n",
              "    }\n",
              "    40% {\n",
              "      border-color: transparent;\n",
              "      border-right-color: var(--fill-color);\n",
              "      border-top-color: var(--fill-color);\n",
              "    }\n",
              "    60% {\n",
              "      border-color: transparent;\n",
              "      border-right-color: var(--fill-color);\n",
              "    }\n",
              "    80% {\n",
              "      border-color: transparent;\n",
              "      border-right-color: var(--fill-color);\n",
              "      border-bottom-color: var(--fill-color);\n",
              "    }\n",
              "    90% {\n",
              "      border-color: transparent;\n",
              "      border-bottom-color: var(--fill-color);\n",
              "    }\n",
              "  }\n",
              "</style>\n",
              "\n",
              "  <script>\n",
              "    async function quickchart(key) {\n",
              "      const quickchartButtonEl =\n",
              "        document.querySelector('#' + key + ' button');\n",
              "      quickchartButtonEl.disabled = true;  // To prevent multiple clicks.\n",
              "      quickchartButtonEl.classList.add('colab-df-spinner');\n",
              "      try {\n",
              "        const charts = await google.colab.kernel.invokeFunction(\n",
              "            'suggestCharts', [key], {});\n",
              "      } catch (error) {\n",
              "        console.error('Error during call to suggestCharts:', error);\n",
              "      }\n",
              "      quickchartButtonEl.classList.remove('colab-df-spinner');\n",
              "      quickchartButtonEl.classList.add('colab-df-quickchart-complete');\n",
              "    }\n",
              "    (() => {\n",
              "      let quickchartButtonEl =\n",
              "        document.querySelector('#df-45f8b47a-c2cb-41b7-8942-59b13e3bd802 button');\n",
              "      quickchartButtonEl.style.display =\n",
              "        google.colab.kernel.accessAllowed ? 'block' : 'none';\n",
              "    })();\n",
              "  </script>\n",
              "</div>\n",
              "\n",
              "    </div>\n",
              "  </div>\n"
            ],
            "application/vnd.google.colaboratory.intrinsic+json": {
              "type": "dataframe",
              "variable_name": "df_iris",
              "summary": "{\n  \"name\": \"df_iris\",\n  \"rows\": 150,\n  \"fields\": [\n    {\n      \"column\": \"sepal length (cm)\",\n      \"properties\": {\n        \"dtype\": \"number\",\n        \"std\": 0.8280661279778629,\n        \"min\": 4.3,\n        \"max\": 7.9,\n        \"num_unique_values\": 35,\n        \"samples\": [\n          6.2,\n          4.5,\n          5.6\n        ],\n        \"semantic_type\": \"\",\n        \"description\": \"\"\n      }\n    },\n    {\n      \"column\": \"sepal width (cm)\",\n      \"properties\": {\n        \"dtype\": \"number\",\n        \"std\": 0.435866284936698,\n        \"min\": 2.0,\n        \"max\": 4.4,\n        \"num_unique_values\": 23,\n        \"samples\": [\n          2.3,\n          4.0,\n          3.5\n        ],\n        \"semantic_type\": \"\",\n        \"description\": \"\"\n      }\n    },\n    {\n      \"column\": \"petal length (cm)\",\n      \"properties\": {\n        \"dtype\": \"number\",\n        \"std\": 1.7652982332594667,\n        \"min\": 1.0,\n        \"max\": 6.9,\n        \"num_unique_values\": 43,\n        \"samples\": [\n          6.7,\n          3.8,\n          3.7\n        ],\n        \"semantic_type\": \"\",\n        \"description\": \"\"\n      }\n    },\n    {\n      \"column\": \"petal width (cm)\",\n      \"properties\": {\n        \"dtype\": \"number\",\n        \"std\": 0.7622376689603465,\n        \"min\": 0.1,\n        \"max\": 2.5,\n        \"num_unique_values\": 22,\n        \"samples\": [\n          0.2,\n          1.2,\n          1.3\n        ],\n        \"semantic_type\": \"\",\n        \"description\": \"\"\n      }\n    },\n    {\n      \"column\": \"target\",\n      \"properties\": {\n        \"dtype\": \"number\",\n        \"std\": 0,\n        \"min\": 0,\n        \"max\": 2,\n        \"num_unique_values\": 3,\n        \"samples\": [\n          0,\n          1,\n          2\n        ],\n        \"semantic_type\": \"\",\n        \"description\": \"\"\n      }\n    }\n  ]\n}"
            }
          },
          "metadata": {},
          "execution_count": 5
        }
      ]
    },
    {
      "cell_type": "markdown",
      "source": [
        "## 기술통계량"
      ],
      "metadata": {
        "id": "ZPA8QcnN50Xm"
      }
    },
    {
      "cell_type": "code",
      "source": [
        "sepal_length = df_iris['sepal length (cm)']\n",
        "\n",
        "print(\"평균 : \", np.mean(sepal_length))\n",
        "print(\"분산 : \", np.var(sepal_length))\n",
        "print(\"표준편차 : \", np.std(sepal_length))\n",
        "print(\"최대값 : \", np.max(sepal_length))\n",
        "print(\"최소값 : \", np.min(sepal_length))\n",
        "print(\"중앙값 : \", np.median(sepal_length))\n",
        "\n",
        "print(\"백분위(25) : \", np.percentile(sepal_length,25))\n",
        "print(\"사분위(1) : \", np.quantile(sepal_length,0.25))"
      ],
      "metadata": {
        "colab": {
          "base_uri": "https://localhost:8080/"
        },
        "id": "kHTMAl7750en",
        "outputId": "ff87f1d0-6e94-430a-f7ce-ed4589be5db2"
      },
      "execution_count": null,
      "outputs": [
        {
          "output_type": "stream",
          "name": "stdout",
          "text": [
            "평균 :  5.843333333333334\n",
            "분산 :  0.6811222222222222\n",
            "표준편차 :  0.8253012917851409\n",
            "최대값 :  7.9\n",
            "최소값 :  4.3\n",
            "중앙값 :  5.8\n",
            "백분위(25) :  5.1\n",
            "사분위(1) :  5.1\n"
          ]
        }
      ]
    },
    {
      "cell_type": "markdown",
      "source": [
        "## 베르누이 분포 통계적 검정 (이항검정; Binominal Test)\n",
        "- stats.bernoulli(mu).rvs(N) -> np.count_nonzero() -> stats.binomtest(n, N)\n"
      ],
      "metadata": {
        "id": "tqueHO9J9IJP"
      }
    },
    {
      "cell_type": "code",
      "source": [
        "N1 = 10\n",
        "N2 = 100\n",
        "N3 = 1000\n",
        "\n",
        "mu = 0.5\n",
        "np.random.seed(0)\n",
        "\n",
        "x1 = stats.bernoulli(mu).rvs(N1)\n",
        "x2 = stats.bernoulli(mu).rvs(N2)\n",
        "x3 = stats.bernoulli(mu).rvs(N3)\n",
        "\n",
        "n1 = np.count_nonzero(x1)\n",
        "n2 = np.count_nonzero(x2)\n",
        "n3 = np.count_nonzero(x3)\n",
        "\n",
        "# 유의확률\n",
        "\n",
        "print(stats.binomtest(n1, N1))\n",
        "print(stats.binomtest(n2, N2))\n",
        "print(stats.binomtest(n3, N3))"
      ],
      "metadata": {
        "colab": {
          "base_uri": "https://localhost:8080/"
        },
        "id": "dKj8YHwc9IPx",
        "outputId": "600c2eaf-68be-4478-b4fe-c714ba3415c1"
      },
      "execution_count": null,
      "outputs": [
        {
          "output_type": "stream",
          "name": "stdout",
          "text": [
            "BinomTestResult(k=7, n=10, alternative='two-sided', statistic=0.7, pvalue=0.34375)\n",
            "BinomTestResult(k=49, n=100, alternative='two-sided', statistic=0.49, pvalue=0.9204107626128211)\n",
            "BinomTestResult(k=481, n=1000, alternative='two-sided', statistic=0.481, pvalue=0.24196933616887067)\n"
          ]
        }
      ]
    },
    {
      "cell_type": "markdown",
      "source": [
        "- 베르누이 확률분포의 모수가 0.5라는 귀무가설 하에 위 가설은 통계적으로 유의하지 않다"
      ],
      "metadata": {
        "id": "uO0nuCSr9IWy"
      }
    },
    {
      "cell_type": "markdown",
      "source": [
        "# **집단의(집단 간) 평균 차이 검정 (z검정, t검정)**"
      ],
      "metadata": {
        "id": "9F3eOW3i9IeB"
      }
    },
    {
      "cell_type": "markdown",
      "source": [
        "# **1) 단일표본 z 검정**\n",
        "- 모집단의 표준편차(모표준편차)가 알려져 있는 경우를 전제\n",
        "- **검정의 목적 : 한 그룹(표본)의 평균이 특정 기대값(모평균)과 유의미하게 다른 지를 검정**\n",
        "  - ex) 어떤 학교 학생들의 평균키가 175cm인지 검정하기 위해, 해당 학교의 임의선택된 학생들의 평균 키를 조사\n",
        "- 잘 사용되지 않음(scipy에도 별도 함수 X) / norm명령어, cdf메서드 사용하여 직접 구현"
      ],
      "metadata": {
        "id": "oytmyOX8DoMO"
      }
    },
    {
      "cell_type": "code",
      "source": [
        "# 실제 모수 mu=0, var=1인 경우, 표본데이터 N을 시뮬레이션으로 구하여 귀무가설 mu=0에 대한 단일표본 z검정\n",
        "\n",
        "# N=10 인 경우\n",
        "N=10\n",
        "mu_0 = 0\n",
        "np.random.seed(0)\n",
        "\n",
        "x = stats.norm(mu_0).rvs(N)\n",
        "#print(x)"
      ],
      "metadata": {
        "id": "u744FzVbDp4j"
      },
      "execution_count": null,
      "outputs": []
    },
    {
      "cell_type": "code",
      "source": [
        "print(np.mean(x))\n",
        "print(np.var(x))\n",
        "print(np.std(x))"
      ],
      "metadata": {
        "colab": {
          "base_uri": "https://localhost:8080/"
        },
        "id": "qIq3pcJ1Soxv",
        "outputId": "6fff6378-2989-4fd8-974c-ce87f8c8303f"
      },
      "execution_count": null,
      "outputs": [
        {
          "output_type": "stream",
          "name": "stdout",
          "text": [
            "0.7380231707288347\n",
            "0.9352422005002838\n",
            "0.9670792110785361\n"
          ]
        }
      ]
    },
    {
      "cell_type": "code",
      "source": [
        "def ztest_1samp(x, sigma2=1, mu=0) :\n",
        "  z = (x.mean()-mu) / np.sqrt(sigma2/len(x)) # z-통계량 계산\n",
        "  return z, 2*stats.norm().sf(np.abs(z)) # z와 p-value 반환\n",
        "\n",
        "ztest_1samp(x)"
      ],
      "metadata": {
        "colab": {
          "base_uri": "https://localhost:8080/"
        },
        "id": "WHTfyVVxDqP6",
        "outputId": "18f10f92-d422-4197-eb79-fa3c1d3ad3d9"
      },
      "execution_count": null,
      "outputs": [
        {
          "output_type": "execute_result",
          "data": {
            "text/plain": [
              "(2.3338341854824276, 0.019604406021683538)"
            ]
          },
          "metadata": {},
          "execution_count": 25
        }
      ]
    },
    {
      "cell_type": "markdown",
      "source": [
        "- 유의확률 0.019 따라서 귀무가설을 기각(mu<>0)\n",
        "- 그러나 이 경우 데이터수가 10개로 절대적 부족, 귀무가설이 참임에도 기각된 경우(Type1 Error)인 가능성을 배제할 수 없음."
      ],
      "metadata": {
        "id": "gBFfv1x7DqXq"
      }
    },
    {
      "cell_type": "code",
      "source": [
        "# N=100 인 경우\n",
        "\n",
        "N=100\n",
        "mu_0 = 0\n",
        "np.random.seed(0)\n",
        "x100 = stats.norm(mu_0).rvs(N)\n",
        "ztest_1samp(x100)"
      ],
      "metadata": {
        "colab": {
          "base_uri": "https://localhost:8080/"
        },
        "id": "CFuTe0ghGJKR",
        "outputId": "b65ca604-2da2-40bb-e90b-e6053c29fa9e"
      },
      "execution_count": null,
      "outputs": [
        {
          "output_type": "execute_result",
          "data": {
            "text/plain": [
              "(0.5980801553448499, 0.5497864508624168)"
            ]
          },
          "metadata": {},
          "execution_count": 26
        }
      ]
    },
    {
      "cell_type": "markdown",
      "source": [
        "- 이처럼 N을 100으로 설정하니 유의확률 0.549 즉 귀무가설을 기각할 수 없다 (mu=0 이다)"
      ],
      "metadata": {
        "id": "s481FnCkGJQM"
      }
    },
    {
      "cell_type": "markdown",
      "source": [
        "# **2) 단일표본 t검정**\n",
        "- 모집단의 표준편차가 알려져 있지 않은 경우 & 데이터가 정규분포를 따르거나 표본크기가 충분히 큰 경우를 전제\n",
        "- **한 그룹의 평균이 특정 기대값(모평균)과 유의미하게 다른지 검정**\n",
        "  - ex) 샘플로부터 추출된 제품의 평균 무게가 500g 인지 검정\n",
        "- scipy ttest_1samp 사용 (디폴트 모수가 없으므로 기대값(popmean) 인수를 직접 지정해야함\n",
        "- scipy.stats.ttest_1samp(a,popmean) # a : 표본데이터 배열, popmean: 귀무가설의 기대값"
      ],
      "metadata": {
        "id": "Fo4Av63lHp34"
      }
    },
    {
      "cell_type": "code",
      "source": [
        "# 데이터갯수 N=100, 실제모수 mu=0인 경우 단일표본 t 검정\n",
        "\n",
        "N=100\n",
        "mu_0 = 0\n",
        "np.random.seed(0)\n",
        "x = stats.norm(loc=mu_0).rvs(N)\n",
        "\n",
        "stats.ttest_1samp(x, popmean=0)"
      ],
      "metadata": {
        "colab": {
          "base_uri": "https://localhost:8080/"
        },
        "id": "3iMK34T4H9EP",
        "outputId": "bd7956cd-ea05-46c8-9701-596a75f6a595"
      },
      "execution_count": null,
      "outputs": [
        {
          "output_type": "execute_result",
          "data": {
            "text/plain": [
              "TtestResult(statistic=0.5904283402851698, pvalue=0.5562489158694675, df=99)"
            ]
          },
          "metadata": {},
          "execution_count": 27
        }
      ]
    },
    {
      "cell_type": "markdown",
      "source": [
        "- 유의확률 0.556 따라서 귀무가설을 기각할 수 없다 (mu=0 이다)"
      ],
      "metadata": {
        "id": "ai6m3nLsH9LC"
      }
    },
    {
      "cell_type": "markdown",
      "source": [
        "# **독립표본 t 검정 (scipy ttest_ind)**\n",
        "- **2개의 독립적인 정규분포에서 나온 N1개, N2개 데이터셋을 이용, 두 정규분포의 기댓값이 동일한한지 여부를 검사**\n",
        "  - ex) 대면채널 관리고객과 비대면채널 관리고객의 펀드 평균가가입 금액에 차차이가 있다고 가정시 이를 검정\n",
        "\n",
        "- 프로세스\n",
        "1. **데이터의 정규성 검정**\n",
        "  - shapiro 정규성 검정 수행\n",
        "  - 만약 정규성을 만족하지 못할 경우: 독립표본 t 검정의 대안으로 'Mann-Whitney U 검정'을 수행 (그럼에도 표본 크기 30개 이상으로 충분히 크거나, 대략적인 정규성을 갖는다면 t 검정을 사용할 순 있음. 단 이 경우 해석에 주의 필요)\n",
        "  - - stats.shapiro(df['x'])\n",
        "2. **두 정규분포의 분산 값 일치 여부 (등분산성)**\n",
        "  - 독립표본 t 검정은 두 정규분포의 분산 값이 같은 경우/같지 않은 경우 검정통계량이 다름. 따라서 equal_var 인수를 사용하여 지정해줘야 함\n",
        "  - 두 정규분포의 분산 값이 같은지 여부는 등분산검정(equal-variance test)를 사용 (잘 모르겠으면 equal_var=False로 설정)\n",
        "3. **독립표본 t검정 수행**\n",
        "  - ttest_ind(sample1, sample2, alternative, equal_var=FALSE)\n",
        "    - alternative = 'two-sided', 'less', 'greater'\n",
        "    - eqaul_var = TRUE(등분산성 만족) FALSE(등분산성 만족하지않음)"
      ],
      "metadata": {
        "id": "n123M2WVJklk"
      }
    },
    {
      "cell_type": "code",
      "source": [
        "# 독립표본 t 검정\n",
        "\n",
        "# 난수 갯수\n",
        "N_1 = 50\n",
        "N_2 = 100\n",
        "\n",
        "# 평균\n",
        "mu_1 = 0\n",
        "mu_2 = 0.5\n",
        "\n",
        "# 표준편차\n",
        "sigma_1 = 1\n",
        "sigma_2 = 2\n",
        "\n",
        "np.random.seed(0)\n",
        "\n",
        "x1 = stats.norm(mu_1, sigma_1).rvs(N_1)\n",
        "x2 = stats.norm(mu_2, sigma_2).rvs(N_2)\n",
        "\n",
        "stats.ttest_ind(x1, x2, equal_var=False)"
      ],
      "metadata": {
        "id": "FQJ8Sv3PJ6VM",
        "colab": {
          "base_uri": "https://localhost:8080/"
        },
        "outputId": "daa47cc3-fd47-4206-c8e3-a6693d05cbd4"
      },
      "execution_count": null,
      "outputs": [
        {
          "output_type": "execute_result",
          "data": {
            "text/plain": [
              "TtestResult(statistic=-2.3642776009118034, pvalue=0.01939873896502667, df=144.13359611582456)"
            ]
          },
          "metadata": {},
          "execution_count": 28
        }
      ]
    },
    {
      "cell_type": "markdown",
      "source": [
        "- p-value가 0.019 따라서 \"두 확률분포의 기댓값이 일치한다\"라는 귀무가설을 기각할 수 있음 (\"일치하지 않는다\")"
      ],
      "metadata": {
        "id": "y7wWe0z7J6cX"
      }
    },
    {
      "cell_type": "markdown",
      "source": [
        "# **단측 독립표본 t 검정**\n",
        "- 한 집단의 평균이 다른 집단의 평균보다 큰 지를 검정\n",
        "- 단측 검정에서는 가설이 특정 방향성을 가지며, 귀무가설을 기각하는 기준이 양측이 아닌 단측 방향으로 설정\n",
        "  - H0: 집단 1의 평균이 집단 2의 평균보다 작거나 같다\n",
        "  - H1: 집단 1의 평균이 집단 2의 평균보다 크다"
      ],
      "metadata": {
        "id": "KJI3Sr8UJkvj"
      }
    },
    {
      "cell_type": "code",
      "source": [
        "# 방법 1 : 간단하게 alternative 사용\n",
        "\n",
        "group1 = np.random.normal(12,2,30)\n",
        "group2 = np.random.normal(10,2,30)\n",
        "\n",
        "stats.ttest_ind(group1, group2, equal_var=False, alternative='greater')"
      ],
      "metadata": {
        "colab": {
          "base_uri": "https://localhost:8080/"
        },
        "id": "NxhH5FLVna3i",
        "outputId": "c099035e-b24e-43a1-f81c-d0ed8ce6dedf"
      },
      "execution_count": null,
      "outputs": [
        {
          "output_type": "execute_result",
          "data": {
            "text/plain": [
              "TtestResult(statistic=6.632720358793076, pvalue=6.925861047340181e-09, df=56.11697288097011)"
            ]
          },
          "metadata": {},
          "execution_count": 32
        }
      ]
    },
    {
      "cell_type": "code",
      "source": [
        "# 방법 2 : 논리적으로 풀어서\n",
        "\n",
        "from scipy.stats import ttest_ind\n",
        "\n",
        "def ttest_one_sided(group1, group2, group1name, group2name, alpha) :\n",
        "\n",
        "  # 두 그룹 데이터 생성\n",
        "  np.random.seed(0)\n",
        "\n",
        "  # t test 수행\n",
        "  t_stat, p_value = ttest_ind(group1, group2, equal_var=False)\n",
        "\n",
        "  # 단측 검정\n",
        "  if t_stat > 0 :\n",
        "    p_value_onesided = p_value/2\n",
        "\n",
        "    print(f\"t_stat : {t_stat} \\np_value_onesided : {p_value_onesided}\")\n",
        "\n",
        "    # 결과 해석\n",
        "    if p_value_onesided < alpha :\n",
        "      print(f\"독립표본 t 단측검정 결과 {group1name} 평균이 {group2name} 평균 대비 통계적으로 유의하게 크다 \\n\")\n",
        "\n",
        "    else :\n",
        "      print(f\"독립표본 t 단측검정 결과 {group1name} 평균이 {group2name} 평균 대비 통계적으로 유의하게 크지 않다 \\n\")\n",
        "\n",
        "  else : # 태세전환하여 오히려 반대의 경우를 검정해본다\n",
        "\n",
        "    t_stat, p_value = ttest_ind(group2, group1)\n",
        "    p_value_onesided = p_value/2\n",
        "\n",
        "    print(f\"t_stat : {t_stat} \\np_value_onesided : {p_value_onesided}\")\n",
        "\n",
        "    if p_value_onesided < alpha :\n",
        "      print(f\"!! {group1name} 평균이 {group1name} 평균 대비 크지 않다 !!\")\n",
        "      print(f\"!! 오히려 {group1name} 평균이 {group2name} 평균 대비 통계적으로 유의미하게 작다 !! \\n\")\n",
        "\n",
        "    else :\n",
        "      print(f\"!! {group1name} 평균이 {group2name} 평균 대비 크지 않다 !!\")\n",
        "      print(f\"단, 역방향의 단측 검정 결과 또한 통계적으로 유의하지 않다 \\n\")\n",
        "\n",
        "ttest_one_sided(group1, group2, \"그룹1\", \"그룹2\", 0.05)"
      ],
      "metadata": {
        "id": "vn811PYOJk3a",
        "colab": {
          "base_uri": "https://localhost:8080/"
        },
        "outputId": "c85fbe70-bae6-455e-dd22-a1301d129035"
      },
      "execution_count": null,
      "outputs": [
        {
          "output_type": "stream",
          "name": "stdout",
          "text": [
            "t_stat : 6.632720358793076 \n",
            "p_value_onesided : 6.925861047340181e-09\n",
            "독립표본 t 단측검정 결과 그룹1 평균이 그룹2 평균 대비 통계적으로 유의하게 크다 \n",
            "\n"
          ]
        }
      ]
    },
    {
      "cell_type": "code",
      "source": [
        "group3 = np.random.normal(10,2,30)\n",
        "group4 = np.random.normal(13,2,30)\n",
        "\n",
        "ttest_one_sided(group3, group4, \"그룹3\", \"그룹4\", 0.05)"
      ],
      "metadata": {
        "id": "VvDMzUiRH9YN",
        "colab": {
          "base_uri": "https://localhost:8080/"
        },
        "outputId": "43754b4d-9660-4034-edb5-0d79177c03de"
      },
      "execution_count": null,
      "outputs": [
        {
          "output_type": "stream",
          "name": "stdout",
          "text": [
            "t_stat : 2.9389770379445195 \n",
            "p_value_onesided : 0.002360167719122182\n",
            "!! 그룹3 평균이 그룹3 평균 대비 크지 않다 !!\n",
            "!! 오히려 그룹3 평균이 그룹4 평균 대비 통계적으로 유의미하게 작다 !! \n",
            "\n"
          ]
        }
      ]
    },
    {
      "cell_type": "markdown",
      "source": [
        "# 일원 분산분석(One-way ANOVA)을 통한 평균 차이 검정"
      ],
      "metadata": {
        "id": "61sSvK7EMwHb"
      }
    },
    {
      "cell_type": "code",
      "source": [
        "import numpy as np\n",
        "from scipy.stats import f_oneway\n",
        "\n",
        "# 두 그룹 데이터 생성\n",
        "np.random.seed(0)\n",
        "group1 = np.random.normal(10,3,30)\n",
        "group2 = np.random.normal(10,2,30)\n",
        "group3 = np.random.normal(10,4,30)\n",
        "\n",
        "# 일원 분산분석\n",
        "f_stat, p_value = f_oneway(group1, group2, group3)\n",
        "\n",
        "print(f\"F-stat : {f_stat} \\n p_value : {p_value}\")\n",
        "\n",
        "# 결과 해석\n",
        "alpha = 0.05\n",
        "if p_value < alpha :\n",
        "  print(\"일원 분산분석 결과 두 그룹 평균은 유의미하게 차이가 있다.\")\n",
        "else :\n",
        "  print(\"일원 분산분석 결과 두 그룹 평균은 유의미하게 차이가 있지 않다.\")"
      ],
      "metadata": {
        "id": "Li0TmRkfMwQd",
        "outputId": "cbcb6232-ea96-4139-95a9-234e18e5bd9b",
        "colab": {
          "base_uri": "https://localhost:8080/"
        }
      },
      "execution_count": null,
      "outputs": [
        {
          "output_type": "stream",
          "name": "stdout",
          "text": [
            "F-stat : 3.661566870753982 \n",
            " p_value : 0.029729997403484455\n",
            "일원 분산분석 결과 두 그룹 평균은 유의미하게 차이가 있다.\n"
          ]
        }
      ]
    },
    {
      "cell_type": "code",
      "source": [],
      "metadata": {
        "id": "JkVH_7h6MwkJ"
      },
      "execution_count": null,
      "outputs": []
    },
    {
      "cell_type": "markdown",
      "source": [
        "# **대응표본 t검정(쌍체표본 t검정)**\n",
        "- 독립표본 t검정을 두 집단의 표본이 1대1 대응하는 경우에 대해 수정한 것. (시점or조건에 따라)\n",
        "- 즉, 독립표본 t검정과 마찬가지로 두 정규분포의 기대값이 동일한지 확인하기 위한 검정\n",
        "  - stats.ttest_rel(x,y,alternative)\n",
        "    - x : 처리방법이 x일 때 관측값\n",
        "    - y : 처리방법이 y일 때 관측값\n",
        "    - alternative = 'two-sided', 'less', 'greater'"
      ],
      "metadata": {
        "id": "xVM9JRqmGJVo"
      }
    },
    {
      "cell_type": "code",
      "source": [
        "# 7명의 환자 대상. 수면영양제 복용 전 후 수면시간 측정하여 영양제 효과 측정\n",
        "# 유의수준 0.05\n",
        "\n",
        "# 복용 전 수면시간 [5,3,8,4,3,2,1]\n",
        "# 복용 후 수면시간 [8,6,6,5,8,7,3]\n",
        "\n",
        "# 귀무 : 수면시간 차이없음 /  대립 : 수면시간 늘어남\n",
        "\n",
        "import pandas as pd\n",
        "from scipy.stats import ttest_rel\n",
        "\n",
        "data = pd.DataFrame({'before' : [5,3,8,4,3,2,1],\n",
        "                     'after' : [8,6,6,5,8,7,3]})\n",
        "\n",
        "result = ttest_rel(data['after'], data['before'], alternative='greater') # after가 before보다 커졌는지 검정\n",
        "\n",
        "print('t검정통계량 = %.3f, pvalue = %.3f' %(result))"
      ],
      "metadata": {
        "colab": {
          "base_uri": "https://localhost:8080/"
        },
        "id": "6j4PzyTijzg4",
        "outputId": "8e37a549-7818-48b2-9993-a0a3d8a4d0e6"
      },
      "execution_count": null,
      "outputs": [
        {
          "output_type": "stream",
          "name": "stdout",
          "text": [
            "t검정통계량 = 2.634, pvalue = 0.019\n"
          ]
        }
      ]
    },
    {
      "cell_type": "markdown",
      "source": [
        "- p = 0.019 (< 0.05) 즉 귀무가설을 기각, 대립가설 채택 (수면영양제 복용 후 수면시간이 유의미하게 늘었음)\n"
      ],
      "metadata": {
        "id": "xqLmB_FCjznH"
      }
    },
    {
      "cell_type": "markdown",
      "source": [
        "# **두 집단 간 분산 비교 검정 (F-검정, Levene's, Bartlett)**\n",
        "- 두 집단 간의 분산이 동일한지 여부를 판단하기 위한 고전적인 방법\n",
        "- Levene's test를 이용하면 분포가 정규성을 만족하지 않더라도 사용 가능\n",
        "  - e.g. 두 그룹의 수익률 변동성(분산)이 동일한지 비교\n",
        "- bartlett의 경우 각 데이터가 정규성 만족해야 함\n",
        "- F test 공식 : F = s1^2 / s2^2 (단, s1^2 > s2^2)"
      ],
      "metadata": {
        "id": "qUii52u0jztr"
      }
    },
    {
      "cell_type": "code",
      "source": [
        "import numpy as np\n",
        "\n",
        "np.random.seed(0)\n",
        "group1 = np.random.normal(10, 3, 1000)\n",
        "group2 = np.random.normal(10, 2, 1000)"
      ],
      "metadata": {
        "id": "4QSeXvgQKjFS"
      },
      "execution_count": null,
      "outputs": []
    },
    {
      "cell_type": "code",
      "source": [
        "# shapiro 를 이용하여 정규성 여부 확인\n",
        "\n",
        "from scipy.stats import shapiro\n",
        "\n",
        "stat1, pv1 = shapiro(group1)\n",
        "stat2, pv2 = shapiro(group2)\n",
        "\n",
        "print(f\"Group1 : Test Statistic: {stat1:.3f}, p-value: {pv1:.3f}\")\n",
        "print(f\"Group2 : Test Statistic: {stat2:.3f}, p-value: {pv2:.3f}\")"
      ],
      "metadata": {
        "colab": {
          "base_uri": "https://localhost:8080/"
        },
        "id": "HGKAZgRnKLeW",
        "outputId": "96b81e1e-c665-490f-8a34-5555c48b7136"
      },
      "execution_count": null,
      "outputs": [
        {
          "output_type": "stream",
          "name": "stdout",
          "text": [
            "Group1 : Test Statistic: 0.999, p-value: 0.591\n",
            "Group2 : Test Statistic: 0.999, p-value: 0.740\n"
          ]
        }
      ]
    },
    {
      "cell_type": "code",
      "source": [
        "# Levene 검정\n",
        "\n",
        "from scipy.stats import levene\n",
        "\n",
        "levene_stat, p_value2 = levene(group1, group2)\n",
        "\n",
        "print(f\"F-statistic : {levene_stat}, p-value : {p_value2}\")"
      ],
      "metadata": {
        "colab": {
          "base_uri": "https://localhost:8080/"
        },
        "id": "TuzeSkDILa_1",
        "outputId": "4bf9562e-ad1d-4ee4-8b91-f8a15a93ff36"
      },
      "execution_count": null,
      "outputs": [
        {
          "output_type": "stream",
          "name": "stdout",
          "text": [
            "F-statistic : 143.6073040779633, p-value : 5.262451654071628e-32\n"
          ]
        }
      ]
    },
    {
      "cell_type": "code",
      "source": [
        "# 정규분포 가정시\n",
        "\n",
        "# F-검정\n",
        "\n",
        "from scipy.stats import f\n",
        "\n",
        "def f_test(x, y) :\n",
        "  if np.var(x, ddof=1) < np.var(y, ddof=1) :\n",
        "    x, y = y, x\n",
        "\n",
        "  f_stat = np.var(x, ddof=1) / np.var(y, ddof=1)\n",
        "\n",
        "  x_dof = x.size - 1\n",
        "  y_dof = y.size - 1\n",
        "\n",
        "  p_value = (1-f.cdf(f_stat, x_dof, y_dof)) * 2\n",
        "  return f_stat, p_value\n",
        "\n",
        "f_stat, p_value1 = f_test(group1, group2)\n",
        "print(f\"F-statistic : {f_stat}, p-value : {p_value1}\")"
      ],
      "metadata": {
        "colab": {
          "base_uri": "https://localhost:8080/"
        },
        "id": "dWzjnIQyjzzC",
        "outputId": "155bd374-021f-413f-82ab-31e2d7597956"
      },
      "execution_count": null,
      "outputs": [
        {
          "output_type": "stream",
          "name": "stdout",
          "text": [
            "F-statistic : 2.3385773921900666, p-value : 2.220446049250313e-16\n"
          ]
        }
      ]
    },
    {
      "cell_type": "code",
      "source": [
        "# 정규분포 가정시\n",
        "\n",
        "# Bartlett 검정\n",
        "\n",
        "from scipy.stats import bartlett\n",
        "\n",
        "bartlett_stat, p_value3 = bartlett(group1, group2)\n",
        "\n",
        "print(f\"F-statistic : {bartlett_stat}, p-value : {p_value3}\")"
      ],
      "metadata": {
        "colab": {
          "base_uri": "https://localhost:8080/"
        },
        "id": "m5NsKtoODCvV",
        "outputId": "d264c7a3-e8ca-45bc-f661-dd0dfd6d7a00"
      },
      "execution_count": null,
      "outputs": [
        {
          "output_type": "stream",
          "name": "stdout",
          "text": [
            "F-statistic : 174.98958319673073, p-value : 6.01840545249289e-40\n"
          ]
        }
      ]
    },
    {
      "cell_type": "markdown",
      "source": [
        "# **카이제곱 적합도 검정 (Chi-square Goodness-of-Fit test)**\n",
        "- 범주형 자료 간 차이 보여주는 분석 방법\n",
        "- 관찰된 빈도가 기대되는 빈도와 유의하게 다른지 검정하는 방법.\n",
        "\n",
        "  - 귀무가설 : 표본집단의 분포가 주어진 특정 분포를 따른다\n",
        "  - 관찰빈도와 기대빈도의 차이가 클수록 귀무가설 기각할 확률이 커짐\n",
        "- chisquare(f_obs, f_exp) # f_obs : 관찰 빈도 나타내는 데이터, f_exp : 기대 빈도를 나타내는 데이터"
      ],
      "metadata": {
        "id": "oh_RWzWaDC4b"
      }
    },
    {
      "cell_type": "code",
      "source": [
        "# 유의수준 0.05. 남학생 90명 여학생 160명 있는데 남,여학생 비율이 45:55 인지 카이제곱 검정을 통해 분석.\n",
        "# 귀무 : 비율이 45:55 / 대립 : 비율이 45:55가 아님\n",
        "\n",
        "import numpy as np\n",
        "from scipy.stats import chisquare\n",
        "\n",
        "num = np.array([90, 160])\n",
        "exp = np.array([0.45,0.55]) * np.sum(num)\n",
        "\n",
        "chi2, pv = chisquare(num, f_exp = exp)\n",
        "print(f\"Chi2 Statistic : {chi2}, p-value : {pv}\")"
      ],
      "metadata": {
        "colab": {
          "base_uri": "https://localhost:8080/"
        },
        "id": "0YQ2op8mDC-r",
        "outputId": "e7fedb5a-bf9e-44fe-90d9-022e726e85da"
      },
      "execution_count": null,
      "outputs": [
        {
          "output_type": "stream",
          "name": "stdout",
          "text": [
            "Chi2 Statistic : 8.181818181818182, p-value : 0.004231232899758152\n"
          ]
        }
      ]
    },
    {
      "cell_type": "markdown",
      "source": [
        "- p value < 0.05 따라서 귀무가설 기각. 대립가설 (45:55가 아님)을 채택"
      ],
      "metadata": {
        "id": "tmme1W-oDDEC"
      }
    },
    {
      "cell_type": "markdown",
      "source": [
        "# **카이제곱 독립 검정 (Chi-square test for Independence)**\n",
        "- 변수가 두 개 이상 범주로 분할되어 있을 때 , 각 범주가 서로 독립적인지 검정\n",
        "- 귀무 : 독립적이다\n",
        "  - 독립성 검정함수 : chi2_contingency(observed)\n",
        "- observed : 두 개 이상 변수를 포함하는 2차원 배열"
      ],
      "metadata": {
        "id": "UATh2nXRDDJW"
      }
    },
    {
      "cell_type": "code",
      "source": [
        "# survey 데이터셋 에서 성별에 따른 운동 빈도가 관계가 있는지 카이제곱 검정을 이용하여 분석.\n",
        "\n",
        "import pandas as pd\n",
        "from scipy.stats import chi2_contingency\n",
        "\n",
        "survey = pd.read_csv('drive/MyDrive/soojebi/survey.csv')\n",
        "\n",
        "tb = pd.crosstab(survey['Sex'], survey['Exer'])\n",
        "print(tb)"
      ],
      "metadata": {
        "colab": {
          "base_uri": "https://localhost:8080/"
        },
        "id": "nY0yJpdCDDOu",
        "outputId": "d9f9da7b-e273-4b3d-b155-b7680798afc0"
      },
      "execution_count": null,
      "outputs": [
        {
          "output_type": "stream",
          "name": "stdout",
          "text": [
            "Exer    Freq  Some\n",
            "Sex               \n",
            "Female    49    58\n",
            "Male      65    40\n"
          ]
        }
      ]
    },
    {
      "cell_type": "code",
      "source": [
        "chi2, pv, dof, expected = chi2_contingency(tb)\n",
        "\n",
        "print(f\"Chi2 Statistic : {chi2}, p-value : {pv}\")\n",
        "print(f\"Deg of freedom : {dof}, \\n Expected frequencies Table : {expected}\")"
      ],
      "metadata": {
        "colab": {
          "base_uri": "https://localhost:8080/"
        },
        "id": "zLHpv1xfOO-D",
        "outputId": "210499ac-23fb-4fb6-971e-c87ce0741569"
      },
      "execution_count": null,
      "outputs": [
        {
          "output_type": "stream",
          "name": "stdout",
          "text": [
            "Chi2 Statistic : 4.904232352768243, p-value : 0.0267909570897706\n",
            "Deg of freedom : 1, \n",
            " Expected frequencies Table : [[57.53773585 49.46226415]\n",
            " [56.46226415 48.53773585]]\n"
          ]
        }
      ]
    },
    {
      "cell_type": "markdown",
      "source": [
        "- p = 0.02 따라서 귀무가설을 기각 (즉, 성별에 따른 운동빈도는 통계적으로 유의한 상관관계가 있다)"
      ],
      "metadata": {
        "id": "Dli8RwBtOPHX"
      }
    },
    {
      "cell_type": "code",
      "source": [],
      "metadata": {
        "id": "ELj5D6ALOPMj"
      },
      "execution_count": null,
      "outputs": []
    },
    {
      "cell_type": "code",
      "source": [],
      "metadata": {
        "id": "cV2CSaFbOPQz"
      },
      "execution_count": null,
      "outputs": []
    },
    {
      "cell_type": "code",
      "source": [],
      "metadata": {
        "id": "5yobu8HkOPU5"
      },
      "execution_count": null,
      "outputs": []
    }
  ]
}