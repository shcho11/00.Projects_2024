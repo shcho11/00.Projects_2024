{
  "cells": [
    {
      "cell_type": "markdown",
      "metadata": {
        "id": "view-in-github",
        "colab_type": "text"
      },
      "source": [
        "<a href=\"https://colab.research.google.com/github/shcho11/00.Projects_2024/blob/main/202506_bigdata_kisa.ipynb\" target=\"_parent\"><img src=\"https://colab.research.google.com/assets/colab-badge.svg\" alt=\"Open In Colab\"/></a>"
      ]
    },
    {
      "cell_type": "markdown",
      "source": [
        "# bigdata_kisa 2025"
      ],
      "metadata": {
        "id": "9DuMUUjT6Yso"
      }
    },
    {
      "cell_type": "code",
      "source": [
        "from google.colab import drive\n",
        "drive.mount('/content/drive')"
      ],
      "metadata": {
        "id": "MJOZtCHo4lxl",
        "colab": {
          "base_uri": "https://localhost:8080/"
        },
        "outputId": "109db8c0-01ec-4491-b70b-f7114f86e685"
      },
      "execution_count": 1,
      "outputs": [
        {
          "output_type": "stream",
          "name": "stdout",
          "text": [
            "Mounted at /content/drive\n"
          ]
        }
      ]
    },
    {
      "cell_type": "markdown",
      "source": [
        "# **통계적 검정 개요**\n",
        "## 차이 관련 검정\n",
        "- **평균의 차이**\n",
        "  - 비교대상 모집단 1개 :\n",
        "    - 모분산을 안다 -> (z) 1표본 z검정\n",
        "    - 모분산을 모른다 (t) 1표본 t검정 (ttest_1samp)\n",
        "      - wilcoxon 검정 (정규성불만족시 비모수적 검정)\n",
        "\n",
        "  - 비교대상 모집단 2개 :\n",
        "    - 모분산을 안다 -> (z) 2표본 z검정\n",
        "    - 모분산을 모른다 -> (t) 2표본 t검정 (ttest_ind)\n",
        "      - 독립표본 t검정 (ex. 남/녀간 평균차이)\n",
        "        - mannwhitney-u검정 (정규성불만족시 비모수적 검정)\n",
        "      - 대응표본 t검정 (ex. 1개월뒤, 2개월뒤 반복 측정 case) (ttest_rel)\n",
        "\n",
        "  - 비교대상 모집단 3개 이상 :\n",
        "    - ANOVA 분산분석 (statsmodels.stats.anova)\n",
        "      - 일원 분산분석 (One-way ANOVA) (ex. 한국, 미국, 독일의 평균 키 차이)\n",
        "        - 반복측정 분산분석 (Repeated Measures ANOVA) (1개월뒤, 2개월뒤 반복 측정 case)\n",
        "      - 이원 분산분석 (Two-way ANOVA) (2개 독립변수가 종속변수에 미치는 영향과 상호작용을 동시에 분석할 때)\n",
        "        - 이원 반복측정 분산분석 (Two-way Repeated Measures ANOVA)\n",
        "\n",
        "- **분산(분포)의 차이**\n",
        "  - F 검정 (분산 차이를 검정) (분포가 정규성을 만족할 경우를 전제)\n",
        "  - Levene's test (정규성을 만족하지 않을 때도 사용 가능)\n",
        "  - Bartlett\n",
        "\n",
        "<br>\n",
        "\n",
        "## 관계 관련 검정\n",
        "- **범주형 확률 분포의 적합도 및 독립성**\n",
        "  - chi-square(카이제곱) 검정 (기대분포와의 적합도) (chisquare)\n",
        "  - chi2_contingency 검정 (독립성 검정, 2d) (chi2_contingency)\n",
        "\n",
        "- **범주형 변수 간 관계 분석**\n",
        "  - 교차분석 (범주형자료 A가 또 다른 범주형자료 B에 영향을 주는 지를 확인)\n",
        "- **수치형 변수 간 관계 분석**\n",
        "  - 상관분석(Correlation)\n",
        "- **수치형 변수 간 종속관계(인과관계) 분석**\n",
        "  - 회귀분석(Regression)\n",
        "    - 독립변수 : 종속변수 관계가 1:1 -> 단순회귀분석\n",
        "    - 독립변수 : 종속변수 관게가 N:1 -> 다중회귀분석\n",
        "    - 로지스틱회귀분석 (분류) (statsmodels.formula.api.logit)\n",
        "      - odds ratio분석 (np.exp(md.params)"
      ],
      "metadata": {
        "id": "JLcvXVxruvFX"
      }
    },
    {
      "cell_type": "code",
      "source": [
        "import numpy as np\n",
        "import pandas as pd\n",
        "import os\n",
        "\n",
        "# shapiro : 정규성 검정  (H0:정규성 만족 가정)\n",
        "# levene : 등분산성 검정  (H0: 등분산성 만족 가정)\n",
        "\n",
        "from scipy.stats import ttest_1samp, shapiro, wilcoxon\n",
        "from scipy.stats import ttest_rel\n",
        "from scipy.stats import ttest_ind, shapiro, levene, mannwhitneyu\n",
        "\n",
        "from scipy.stats import f_oneway # 일원분산분석\n",
        "from statsmodels.stats.anova import anova_lm\n",
        "from statsmodels.formula.api import logit, ols\n",
        "\n",
        "from scipy.stats import f\n",
        "from scipy.stats import chisquare # 기대분포와 적합도 검정\n",
        "from scipy.stats import chi2_contingency, pearsonr # (두 범주형변수의) 독립성 검정\n",
        "\n",
        "from sklearn.preprocessing import MinMaxScaler, StandardScaler, OrdinalEncoder, LabelEncoder\n",
        "from sklearn.model_selection import train_test_split\n",
        "from sklearn.ensemble import RandomForestRegressor, RandomForestClassifier\n",
        "from sklearn.metrics import mean_squared_error, r2_score\n",
        "from sklearn.metrics import confusion_matrix, accuracy_score, precision_score, recall_score, f1_score, roc_auc_score\n",
        "\n",
        "from datetime import datetime"
      ],
      "metadata": {
        "id": "mcFpUW27RMLX"
      },
      "execution_count": 2,
      "outputs": []
    },
    {
      "cell_type": "code",
      "source": [
        "import sklearn\n",
        "print(dir(sklearn))"
      ],
      "metadata": {
        "colab": {
          "base_uri": "https://localhost:8080/"
        },
        "id": "5JRlw3COG8c3",
        "outputId": "fe8ec779-9fab-44fd-9760-9e11fe482167"
      },
      "execution_count": 3,
      "outputs": [
        {
          "output_type": "stream",
          "name": "stdout",
          "text": [
            "['calibration', 'clone', 'cluster', 'compose', 'config_context', 'covariance', 'cross_decomposition', 'datasets', 'decomposition', 'discriminant_analysis', 'dummy', 'ensemble', 'exceptions', 'experimental', 'externals', 'feature_extraction', 'feature_selection', 'frozen', 'gaussian_process', 'get_config', 'impute', 'inspection', 'isotonic', 'kernel_approximation', 'kernel_ridge', 'linear_model', 'manifold', 'metrics', 'mixture', 'model_selection', 'multiclass', 'multioutput', 'naive_bayes', 'neighbors', 'neural_network', 'pipeline', 'preprocessing', 'random_projection', 'semi_supervised', 'set_config', 'show_versions', 'svm', 'tree']\n"
          ]
        }
      ]
    },
    {
      "cell_type": "code",
      "source": [
        "#import pandas\n",
        "#print(help(pandas.get_dummies))"
      ],
      "metadata": {
        "id": "HWn73E16Rd73"
      },
      "execution_count": 4,
      "outputs": []
    },
    {
      "cell_type": "code",
      "source": [
        "# 기본 (pandas numpy scipy)\n",
        "import pandas as pd\n",
        "import numpy as np\n",
        "from scipy.stats import trim_mean\n",
        "\n",
        "arr = np.array([1,2,4,6,10,100])\n",
        "\n",
        "print(np.mean(arr))\n",
        "print(np.min(arr))\n",
        "print(np.max(arr))\n",
        "print(np.std(arr),\"\\n\")\n",
        "\n",
        "#  NaN(Not a Number)을 무시하고 평균을 계산 (대상 데이터에 NaN 값이 포함되어 있어도 평균출력)\n",
        "arr_nan = np.array([1,2,4,6,10,100, np.nan])\n",
        "\n",
        "print(np.mean(arr_nan))\n",
        "print(np.nanmean(arr_nan),\"\\n\")\n",
        "\n",
        "# 양극단 제거 후 평균 계산. e.g. proportiontocut=0.1이면 데이터 양쪽에서 10%씩 잘라냄\n",
        "pro = 0.2\n",
        "print(np.mean(arr))\n",
        "print(trim_mean(arr, proportiontocut=pro))"
      ],
      "metadata": {
        "colab": {
          "base_uri": "https://localhost:8080/"
        },
        "id": "bOjlF7W8-OID",
        "outputId": "de3f60aa-d2a9-41a5-90c5-f32364a02fb5"
      },
      "execution_count": 5,
      "outputs": [
        {
          "output_type": "stream",
          "name": "stdout",
          "text": [
            "20.5\n",
            "1\n",
            "100\n",
            "35.67328599012619 \n",
            "\n",
            "nan\n",
            "20.5 \n",
            "\n",
            "20.5\n",
            "5.5\n"
          ]
        }
      ]
    },
    {
      "cell_type": "code",
      "source": [
        "from scipy.stats import trim_mean\n",
        "print(trim_mean([1,2,3,4,5,6,7,8,1000], proportiontocut=0.2))"
      ],
      "metadata": {
        "colab": {
          "base_uri": "https://localhost:8080/"
        },
        "id": "GHAvyPwDHsx9",
        "outputId": "eb763b19-9e85-4678-9d19-d968f0689851"
      },
      "execution_count": 6,
      "outputs": [
        {
          "output_type": "stream",
          "name": "stdout",
          "text": [
            "5.0\n"
          ]
        }
      ]
    },
    {
      "cell_type": "code",
      "source": [
        "# 기출 1유형\n",
        "\n",
        "df = pd.DataFrame({'a' : [1,2,4,6,10,np.nan,100],\n",
        "                   'b' : [2,5,6,7,11,np.nan,111]})\n",
        "# dropna\n",
        "df = df.dropna(axis=0)\n",
        "\n",
        "# to sclice 70% of data\n",
        "print(len(df)*0.7, int(len(df)*0.7))\n",
        "df70 = df.iloc[:int(len(df)*0.7)]\n",
        "print(df70)\n",
        "\n",
        "# 1q value of column 'b'\n",
        "print(df70['b'].quantile(0.25))"
      ],
      "metadata": {
        "colab": {
          "base_uri": "https://localhost:8080/"
        },
        "id": "LGQj1XVx1T8V",
        "outputId": "4d02e762-5e71-46d5-aee7-21d2b42b2c0a"
      },
      "execution_count": 7,
      "outputs": [
        {
          "output_type": "stream",
          "name": "stdout",
          "text": [
            "4.199999999999999 4\n",
            "     a    b\n",
            "0  1.0  2.0\n",
            "1  2.0  5.0\n",
            "2  4.0  6.0\n",
            "3  6.0  7.0\n",
            "4.25\n"
          ]
        }
      ]
    },
    {
      "cell_type": "code",
      "source": [
        "# random sampling\n",
        "df = pd.DataFrame({'a' : [1,2,4,6,10,100]})\n",
        "#np.random.seed(10) # seed 고정시\n",
        "s = np.random.choice(df['a'], size=3, replace=False) # 비복원(replace=False) 추출\n",
        "print(s)"
      ],
      "metadata": {
        "colab": {
          "base_uri": "https://localhost:8080/"
        },
        "id": "SB4pXztxwnEY",
        "outputId": "de1d8923-6ff0-41d9-b5fd-072107ffc004"
      },
      "execution_count": 8,
      "outputs": [
        {
          "output_type": "stream",
          "name": "stdout",
          "text": [
            "[ 4  6 10]\n"
          ]
        }
      ]
    },
    {
      "cell_type": "code",
      "source": [
        "# date\n",
        "\n",
        "from datetime import datetime\n",
        "a1 = datetime.strptime(\"1919 March 1\", \"%Y %B %d\")\n",
        "a2 = datetime.strptime(\"3-1 1919\", \"%m-%d %Y\")\n",
        "a3 = datetime.strptime(\"1919-03-01\", \"%Y-%m-%d\")\n",
        "print(a1)\n",
        "print(a2)\n",
        "print(a3)\n",
        "print(\"\\n\")\n",
        "\n",
        "today= datetime.today()\n",
        "f_today = datetime.strftime(today, \"%Y%m%d\")\n",
        "print(f_today)"
      ],
      "metadata": {
        "colab": {
          "base_uri": "https://localhost:8080/"
        },
        "id": "aoy4k72U-Nx8",
        "outputId": "0231b195-25cd-48fb-8f68-c4b6e30287c3"
      },
      "execution_count": 9,
      "outputs": [
        {
          "output_type": "stream",
          "name": "stdout",
          "text": [
            "1919-03-01 00:00:00\n",
            "1919-03-01 00:00:00\n",
            "1919-03-01 00:00:00\n",
            "\n",
            "\n",
            "20250620\n"
          ]
        }
      ]
    },
    {
      "cell_type": "code",
      "source": [
        "# 기출 1유형\n",
        "\n",
        "data = pd.read_csv('drive/MyDrive/data6-1-1.csv')\n",
        "data.head()"
      ],
      "metadata": {
        "colab": {
          "base_uri": "https://localhost:8080/",
          "height": 206
        },
        "id": "TfAWw-mKNAEY",
        "outputId": "d0557858-dd2d-44c1-e983-25e210367ed7"
      },
      "execution_count": 10,
      "outputs": [
        {
          "output_type": "execute_result",
          "data": {
            "text/plain": [
              "    소방서                 출동시간                 도착시간\n",
              "0  소방서1  2023-09-16 06:12:29  2023-09-16 07:51:55\n",
              "1  소방서5  2023-09-19 06:11:41  2023-09-19 08:08:36\n",
              "2  소방서1  2023-09-14 06:12:00  2023-09-14 07:24:21\n",
              "3  소방서6  2023-09-20 06:12:24  2023-09-20 06:30:45\n",
              "4  소방서9  2023-09-15 06:11:50  2023-09-15 06:44:00"
            ],
            "text/html": [
              "\n",
              "  <div id=\"df-503e1963-ee8b-4141-b0c5-908c1781562d\" class=\"colab-df-container\">\n",
              "    <div>\n",
              "<style scoped>\n",
              "    .dataframe tbody tr th:only-of-type {\n",
              "        vertical-align: middle;\n",
              "    }\n",
              "\n",
              "    .dataframe tbody tr th {\n",
              "        vertical-align: top;\n",
              "    }\n",
              "\n",
              "    .dataframe thead th {\n",
              "        text-align: right;\n",
              "    }\n",
              "</style>\n",
              "<table border=\"1\" class=\"dataframe\">\n",
              "  <thead>\n",
              "    <tr style=\"text-align: right;\">\n",
              "      <th></th>\n",
              "      <th>소방서</th>\n",
              "      <th>출동시간</th>\n",
              "      <th>도착시간</th>\n",
              "    </tr>\n",
              "  </thead>\n",
              "  <tbody>\n",
              "    <tr>\n",
              "      <th>0</th>\n",
              "      <td>소방서1</td>\n",
              "      <td>2023-09-16 06:12:29</td>\n",
              "      <td>2023-09-16 07:51:55</td>\n",
              "    </tr>\n",
              "    <tr>\n",
              "      <th>1</th>\n",
              "      <td>소방서5</td>\n",
              "      <td>2023-09-19 06:11:41</td>\n",
              "      <td>2023-09-19 08:08:36</td>\n",
              "    </tr>\n",
              "    <tr>\n",
              "      <th>2</th>\n",
              "      <td>소방서1</td>\n",
              "      <td>2023-09-14 06:12:00</td>\n",
              "      <td>2023-09-14 07:24:21</td>\n",
              "    </tr>\n",
              "    <tr>\n",
              "      <th>3</th>\n",
              "      <td>소방서6</td>\n",
              "      <td>2023-09-20 06:12:24</td>\n",
              "      <td>2023-09-20 06:30:45</td>\n",
              "    </tr>\n",
              "    <tr>\n",
              "      <th>4</th>\n",
              "      <td>소방서9</td>\n",
              "      <td>2023-09-15 06:11:50</td>\n",
              "      <td>2023-09-15 06:44:00</td>\n",
              "    </tr>\n",
              "  </tbody>\n",
              "</table>\n",
              "</div>\n",
              "    <div class=\"colab-df-buttons\">\n",
              "\n",
              "  <div class=\"colab-df-container\">\n",
              "    <button class=\"colab-df-convert\" onclick=\"convertToInteractive('df-503e1963-ee8b-4141-b0c5-908c1781562d')\"\n",
              "            title=\"Convert this dataframe to an interactive table.\"\n",
              "            style=\"display:none;\">\n",
              "\n",
              "  <svg xmlns=\"http://www.w3.org/2000/svg\" height=\"24px\" viewBox=\"0 -960 960 960\">\n",
              "    <path d=\"M120-120v-720h720v720H120Zm60-500h600v-160H180v160Zm220 220h160v-160H400v160Zm0 220h160v-160H400v160ZM180-400h160v-160H180v160Zm440 0h160v-160H620v160ZM180-180h160v-160H180v160Zm440 0h160v-160H620v160Z\"/>\n",
              "  </svg>\n",
              "    </button>\n",
              "\n",
              "  <style>\n",
              "    .colab-df-container {\n",
              "      display:flex;\n",
              "      gap: 12px;\n",
              "    }\n",
              "\n",
              "    .colab-df-convert {\n",
              "      background-color: #E8F0FE;\n",
              "      border: none;\n",
              "      border-radius: 50%;\n",
              "      cursor: pointer;\n",
              "      display: none;\n",
              "      fill: #1967D2;\n",
              "      height: 32px;\n",
              "      padding: 0 0 0 0;\n",
              "      width: 32px;\n",
              "    }\n",
              "\n",
              "    .colab-df-convert:hover {\n",
              "      background-color: #E2EBFA;\n",
              "      box-shadow: 0px 1px 2px rgba(60, 64, 67, 0.3), 0px 1px 3px 1px rgba(60, 64, 67, 0.15);\n",
              "      fill: #174EA6;\n",
              "    }\n",
              "\n",
              "    .colab-df-buttons div {\n",
              "      margin-bottom: 4px;\n",
              "    }\n",
              "\n",
              "    [theme=dark] .colab-df-convert {\n",
              "      background-color: #3B4455;\n",
              "      fill: #D2E3FC;\n",
              "    }\n",
              "\n",
              "    [theme=dark] .colab-df-convert:hover {\n",
              "      background-color: #434B5C;\n",
              "      box-shadow: 0px 1px 3px 1px rgba(0, 0, 0, 0.15);\n",
              "      filter: drop-shadow(0px 1px 2px rgba(0, 0, 0, 0.3));\n",
              "      fill: #FFFFFF;\n",
              "    }\n",
              "  </style>\n",
              "\n",
              "    <script>\n",
              "      const buttonEl =\n",
              "        document.querySelector('#df-503e1963-ee8b-4141-b0c5-908c1781562d button.colab-df-convert');\n",
              "      buttonEl.style.display =\n",
              "        google.colab.kernel.accessAllowed ? 'block' : 'none';\n",
              "\n",
              "      async function convertToInteractive(key) {\n",
              "        const element = document.querySelector('#df-503e1963-ee8b-4141-b0c5-908c1781562d');\n",
              "        const dataTable =\n",
              "          await google.colab.kernel.invokeFunction('convertToInteractive',\n",
              "                                                    [key], {});\n",
              "        if (!dataTable) return;\n",
              "\n",
              "        const docLinkHtml = 'Like what you see? Visit the ' +\n",
              "          '<a target=\"_blank\" href=https://colab.research.google.com/notebooks/data_table.ipynb>data table notebook</a>'\n",
              "          + ' to learn more about interactive tables.';\n",
              "        element.innerHTML = '';\n",
              "        dataTable['output_type'] = 'display_data';\n",
              "        await google.colab.output.renderOutput(dataTable, element);\n",
              "        const docLink = document.createElement('div');\n",
              "        docLink.innerHTML = docLinkHtml;\n",
              "        element.appendChild(docLink);\n",
              "      }\n",
              "    </script>\n",
              "  </div>\n",
              "\n",
              "\n",
              "    <div id=\"df-c8e37ca5-75d4-4434-a2da-c7541c8cf203\">\n",
              "      <button class=\"colab-df-quickchart\" onclick=\"quickchart('df-c8e37ca5-75d4-4434-a2da-c7541c8cf203')\"\n",
              "                title=\"Suggest charts\"\n",
              "                style=\"display:none;\">\n",
              "\n",
              "<svg xmlns=\"http://www.w3.org/2000/svg\" height=\"24px\"viewBox=\"0 0 24 24\"\n",
              "     width=\"24px\">\n",
              "    <g>\n",
              "        <path d=\"M19 3H5c-1.1 0-2 .9-2 2v14c0 1.1.9 2 2 2h14c1.1 0 2-.9 2-2V5c0-1.1-.9-2-2-2zM9 17H7v-7h2v7zm4 0h-2V7h2v10zm4 0h-2v-4h2v4z\"/>\n",
              "    </g>\n",
              "</svg>\n",
              "      </button>\n",
              "\n",
              "<style>\n",
              "  .colab-df-quickchart {\n",
              "      --bg-color: #E8F0FE;\n",
              "      --fill-color: #1967D2;\n",
              "      --hover-bg-color: #E2EBFA;\n",
              "      --hover-fill-color: #174EA6;\n",
              "      --disabled-fill-color: #AAA;\n",
              "      --disabled-bg-color: #DDD;\n",
              "  }\n",
              "\n",
              "  [theme=dark] .colab-df-quickchart {\n",
              "      --bg-color: #3B4455;\n",
              "      --fill-color: #D2E3FC;\n",
              "      --hover-bg-color: #434B5C;\n",
              "      --hover-fill-color: #FFFFFF;\n",
              "      --disabled-bg-color: #3B4455;\n",
              "      --disabled-fill-color: #666;\n",
              "  }\n",
              "\n",
              "  .colab-df-quickchart {\n",
              "    background-color: var(--bg-color);\n",
              "    border: none;\n",
              "    border-radius: 50%;\n",
              "    cursor: pointer;\n",
              "    display: none;\n",
              "    fill: var(--fill-color);\n",
              "    height: 32px;\n",
              "    padding: 0;\n",
              "    width: 32px;\n",
              "  }\n",
              "\n",
              "  .colab-df-quickchart:hover {\n",
              "    background-color: var(--hover-bg-color);\n",
              "    box-shadow: 0 1px 2px rgba(60, 64, 67, 0.3), 0 1px 3px 1px rgba(60, 64, 67, 0.15);\n",
              "    fill: var(--button-hover-fill-color);\n",
              "  }\n",
              "\n",
              "  .colab-df-quickchart-complete:disabled,\n",
              "  .colab-df-quickchart-complete:disabled:hover {\n",
              "    background-color: var(--disabled-bg-color);\n",
              "    fill: var(--disabled-fill-color);\n",
              "    box-shadow: none;\n",
              "  }\n",
              "\n",
              "  .colab-df-spinner {\n",
              "    border: 2px solid var(--fill-color);\n",
              "    border-color: transparent;\n",
              "    border-bottom-color: var(--fill-color);\n",
              "    animation:\n",
              "      spin 1s steps(1) infinite;\n",
              "  }\n",
              "\n",
              "  @keyframes spin {\n",
              "    0% {\n",
              "      border-color: transparent;\n",
              "      border-bottom-color: var(--fill-color);\n",
              "      border-left-color: var(--fill-color);\n",
              "    }\n",
              "    20% {\n",
              "      border-color: transparent;\n",
              "      border-left-color: var(--fill-color);\n",
              "      border-top-color: var(--fill-color);\n",
              "    }\n",
              "    30% {\n",
              "      border-color: transparent;\n",
              "      border-left-color: var(--fill-color);\n",
              "      border-top-color: var(--fill-color);\n",
              "      border-right-color: var(--fill-color);\n",
              "    }\n",
              "    40% {\n",
              "      border-color: transparent;\n",
              "      border-right-color: var(--fill-color);\n",
              "      border-top-color: var(--fill-color);\n",
              "    }\n",
              "    60% {\n",
              "      border-color: transparent;\n",
              "      border-right-color: var(--fill-color);\n",
              "    }\n",
              "    80% {\n",
              "      border-color: transparent;\n",
              "      border-right-color: var(--fill-color);\n",
              "      border-bottom-color: var(--fill-color);\n",
              "    }\n",
              "    90% {\n",
              "      border-color: transparent;\n",
              "      border-bottom-color: var(--fill-color);\n",
              "    }\n",
              "  }\n",
              "</style>\n",
              "\n",
              "      <script>\n",
              "        async function quickchart(key) {\n",
              "          const quickchartButtonEl =\n",
              "            document.querySelector('#' + key + ' button');\n",
              "          quickchartButtonEl.disabled = true;  // To prevent multiple clicks.\n",
              "          quickchartButtonEl.classList.add('colab-df-spinner');\n",
              "          try {\n",
              "            const charts = await google.colab.kernel.invokeFunction(\n",
              "                'suggestCharts', [key], {});\n",
              "          } catch (error) {\n",
              "            console.error('Error during call to suggestCharts:', error);\n",
              "          }\n",
              "          quickchartButtonEl.classList.remove('colab-df-spinner');\n",
              "          quickchartButtonEl.classList.add('colab-df-quickchart-complete');\n",
              "        }\n",
              "        (() => {\n",
              "          let quickchartButtonEl =\n",
              "            document.querySelector('#df-c8e37ca5-75d4-4434-a2da-c7541c8cf203 button');\n",
              "          quickchartButtonEl.style.display =\n",
              "            google.colab.kernel.accessAllowed ? 'block' : 'none';\n",
              "        })();\n",
              "      </script>\n",
              "    </div>\n",
              "\n",
              "    </div>\n",
              "  </div>\n"
            ],
            "application/vnd.google.colaboratory.intrinsic+json": {
              "type": "dataframe",
              "variable_name": "data",
              "summary": "{\n  \"name\": \"data\",\n  \"rows\": 100,\n  \"fields\": [\n    {\n      \"column\": \"\\uc18c\\ubc29\\uc11c\",\n      \"properties\": {\n        \"dtype\": \"category\",\n        \"num_unique_values\": 10,\n        \"samples\": [\n          \"\\uc18c\\ubc29\\uc11c2\",\n          \"\\uc18c\\ubc29\\uc11c5\",\n          \"\\uc18c\\ubc29\\uc11c8\"\n        ],\n        \"semantic_type\": \"\",\n        \"description\": \"\"\n      }\n    },\n    {\n      \"column\": \"\\ucd9c\\ub3d9\\uc2dc\\uac04\",\n      \"properties\": {\n        \"dtype\": \"object\",\n        \"num_unique_values\": 91,\n        \"samples\": [\n          \"2023-09-14 06:12:07\",\n          \"2023-09-17 06:12:09\",\n          \"2023-09-11 06:11:56\"\n        ],\n        \"semantic_type\": \"\",\n        \"description\": \"\"\n      }\n    },\n    {\n      \"column\": \"\\ub3c4\\ucc29\\uc2dc\\uac04\",\n      \"properties\": {\n        \"dtype\": \"object\",\n        \"num_unique_values\": 100,\n        \"samples\": [\n          \"2023-09-17 07:20:21\",\n          \"2023-09-12 08:12:22\",\n          \"2023-09-13 07:26:59\"\n        ],\n        \"semantic_type\": \"\",\n        \"description\": \"\"\n      }\n    }\n  ]\n}"
            }
          },
          "metadata": {},
          "execution_count": 10
        }
      ]
    },
    {
      "cell_type": "code",
      "source": [
        "from datetime import datetime\n",
        "\n",
        "data['도착t'] = pd.to_datetime(data['도착시간'])\n",
        "data['출동t'] = pd.to_datetime(data['출동시간'])\n",
        "\n",
        "# time-interval in seconds (to minutes)\n",
        "data['Min'] = (data['도착t'] - data['출동t']).apply(lambda x : x.total_seconds()/60)\n",
        "\n",
        "data = data.sort_values(by='Min', ascending=False)\n",
        "\n",
        "# 소방서별 출동소요시간 평균\n",
        "gr_min = data.groupby('소방서')['Min'].mean().sort_values(ascending=False)\n",
        "\n",
        "print(gr_min)\n",
        "print(gr_min.idxmax())\n",
        "print(gr_min.idxmin())"
      ],
      "metadata": {
        "colab": {
          "base_uri": "https://localhost:8080/"
        },
        "id": "nlscYUlaOs4J",
        "outputId": "dac9d907-c7a9-4403-911c-a12ca1f500b1"
      },
      "execution_count": 11,
      "outputs": [
        {
          "output_type": "stream",
          "name": "stdout",
          "text": [
            "소방서\n",
            "소방서9     80.658889\n",
            "소방서5     61.250000\n",
            "소방서2     60.228571\n",
            "소방서7     56.670370\n",
            "소방서1     54.952381\n",
            "소방서4     49.136667\n",
            "소방서3     43.490741\n",
            "소방서8     42.693750\n",
            "소방서10    42.365000\n",
            "소방서6     41.764583\n",
            "Name: Min, dtype: float64\n",
            "소방서9\n",
            "소방서6\n"
          ]
        }
      ]
    },
    {
      "cell_type": "code",
      "source": [
        "# np.bincount\n",
        "x = np.array([2,1,1,10,1])\n",
        "xlist = x.tolist()\n",
        "\n",
        "print(np.bincount(x))\n",
        "print(np.bincount(x).argmax())\n",
        "#print(np.bincount(x).idxmax())\n",
        "\n",
        "print(np.bincount(xlist))\n",
        "print(np.bincount(xlist).argmax())"
      ],
      "metadata": {
        "id": "RCVb4lTxWKNQ",
        "colab": {
          "base_uri": "https://localhost:8080/"
        },
        "outputId": "78a1503b-84a6-475f-ccd1-99438036b78b"
      },
      "execution_count": 12,
      "outputs": [
        {
          "output_type": "stream",
          "name": "stdout",
          "text": [
            "[0 3 1 0 0 0 0 0 0 0 1]\n",
            "1\n",
            "[0 3 1 0 0 0 0 0 0 0 1]\n",
            "1\n"
          ]
        }
      ]
    },
    {
      "cell_type": "code",
      "source": [
        "# rank\n",
        "x = np.array([1,1,5,5,7,9])\n",
        "df = pd.DataFrame()\n",
        "\n",
        "df['rank_min'] = pd.Series(x).rank(method='min')\n",
        "df['rank_first'] = pd.Series(x).rank(method='first')\n",
        "df['rank_dense'] = pd.Series(x).rank(method='dense')\n",
        "df['rank_avg'] = pd.Series(x).rank(method='average')\n",
        "\n",
        "df"
      ],
      "metadata": {
        "colab": {
          "base_uri": "https://localhost:8080/",
          "height": 237
        },
        "id": "7x1QKirw88wK",
        "outputId": "6cb2bce0-66c0-406c-8a0d-6aabbf77ce81"
      },
      "execution_count": 13,
      "outputs": [
        {
          "output_type": "execute_result",
          "data": {
            "text/plain": [
              "   rank_min  rank_first  rank_dense  rank_avg\n",
              "0       1.0         1.0         1.0       1.5\n",
              "1       1.0         2.0         1.0       1.5\n",
              "2       3.0         3.0         2.0       3.5\n",
              "3       3.0         4.0         2.0       3.5\n",
              "4       5.0         5.0         3.0       5.0\n",
              "5       6.0         6.0         4.0       6.0"
            ],
            "text/html": [
              "\n",
              "  <div id=\"df-e370b26c-eb81-41fe-bb41-fb0a5468e7d5\" class=\"colab-df-container\">\n",
              "    <div>\n",
              "<style scoped>\n",
              "    .dataframe tbody tr th:only-of-type {\n",
              "        vertical-align: middle;\n",
              "    }\n",
              "\n",
              "    .dataframe tbody tr th {\n",
              "        vertical-align: top;\n",
              "    }\n",
              "\n",
              "    .dataframe thead th {\n",
              "        text-align: right;\n",
              "    }\n",
              "</style>\n",
              "<table border=\"1\" class=\"dataframe\">\n",
              "  <thead>\n",
              "    <tr style=\"text-align: right;\">\n",
              "      <th></th>\n",
              "      <th>rank_min</th>\n",
              "      <th>rank_first</th>\n",
              "      <th>rank_dense</th>\n",
              "      <th>rank_avg</th>\n",
              "    </tr>\n",
              "  </thead>\n",
              "  <tbody>\n",
              "    <tr>\n",
              "      <th>0</th>\n",
              "      <td>1.0</td>\n",
              "      <td>1.0</td>\n",
              "      <td>1.0</td>\n",
              "      <td>1.5</td>\n",
              "    </tr>\n",
              "    <tr>\n",
              "      <th>1</th>\n",
              "      <td>1.0</td>\n",
              "      <td>2.0</td>\n",
              "      <td>1.0</td>\n",
              "      <td>1.5</td>\n",
              "    </tr>\n",
              "    <tr>\n",
              "      <th>2</th>\n",
              "      <td>3.0</td>\n",
              "      <td>3.0</td>\n",
              "      <td>2.0</td>\n",
              "      <td>3.5</td>\n",
              "    </tr>\n",
              "    <tr>\n",
              "      <th>3</th>\n",
              "      <td>3.0</td>\n",
              "      <td>4.0</td>\n",
              "      <td>2.0</td>\n",
              "      <td>3.5</td>\n",
              "    </tr>\n",
              "    <tr>\n",
              "      <th>4</th>\n",
              "      <td>5.0</td>\n",
              "      <td>5.0</td>\n",
              "      <td>3.0</td>\n",
              "      <td>5.0</td>\n",
              "    </tr>\n",
              "    <tr>\n",
              "      <th>5</th>\n",
              "      <td>6.0</td>\n",
              "      <td>6.0</td>\n",
              "      <td>4.0</td>\n",
              "      <td>6.0</td>\n",
              "    </tr>\n",
              "  </tbody>\n",
              "</table>\n",
              "</div>\n",
              "    <div class=\"colab-df-buttons\">\n",
              "\n",
              "  <div class=\"colab-df-container\">\n",
              "    <button class=\"colab-df-convert\" onclick=\"convertToInteractive('df-e370b26c-eb81-41fe-bb41-fb0a5468e7d5')\"\n",
              "            title=\"Convert this dataframe to an interactive table.\"\n",
              "            style=\"display:none;\">\n",
              "\n",
              "  <svg xmlns=\"http://www.w3.org/2000/svg\" height=\"24px\" viewBox=\"0 -960 960 960\">\n",
              "    <path d=\"M120-120v-720h720v720H120Zm60-500h600v-160H180v160Zm220 220h160v-160H400v160Zm0 220h160v-160H400v160ZM180-400h160v-160H180v160Zm440 0h160v-160H620v160ZM180-180h160v-160H180v160Zm440 0h160v-160H620v160Z\"/>\n",
              "  </svg>\n",
              "    </button>\n",
              "\n",
              "  <style>\n",
              "    .colab-df-container {\n",
              "      display:flex;\n",
              "      gap: 12px;\n",
              "    }\n",
              "\n",
              "    .colab-df-convert {\n",
              "      background-color: #E8F0FE;\n",
              "      border: none;\n",
              "      border-radius: 50%;\n",
              "      cursor: pointer;\n",
              "      display: none;\n",
              "      fill: #1967D2;\n",
              "      height: 32px;\n",
              "      padding: 0 0 0 0;\n",
              "      width: 32px;\n",
              "    }\n",
              "\n",
              "    .colab-df-convert:hover {\n",
              "      background-color: #E2EBFA;\n",
              "      box-shadow: 0px 1px 2px rgba(60, 64, 67, 0.3), 0px 1px 3px 1px rgba(60, 64, 67, 0.15);\n",
              "      fill: #174EA6;\n",
              "    }\n",
              "\n",
              "    .colab-df-buttons div {\n",
              "      margin-bottom: 4px;\n",
              "    }\n",
              "\n",
              "    [theme=dark] .colab-df-convert {\n",
              "      background-color: #3B4455;\n",
              "      fill: #D2E3FC;\n",
              "    }\n",
              "\n",
              "    [theme=dark] .colab-df-convert:hover {\n",
              "      background-color: #434B5C;\n",
              "      box-shadow: 0px 1px 3px 1px rgba(0, 0, 0, 0.15);\n",
              "      filter: drop-shadow(0px 1px 2px rgba(0, 0, 0, 0.3));\n",
              "      fill: #FFFFFF;\n",
              "    }\n",
              "  </style>\n",
              "\n",
              "    <script>\n",
              "      const buttonEl =\n",
              "        document.querySelector('#df-e370b26c-eb81-41fe-bb41-fb0a5468e7d5 button.colab-df-convert');\n",
              "      buttonEl.style.display =\n",
              "        google.colab.kernel.accessAllowed ? 'block' : 'none';\n",
              "\n",
              "      async function convertToInteractive(key) {\n",
              "        const element = document.querySelector('#df-e370b26c-eb81-41fe-bb41-fb0a5468e7d5');\n",
              "        const dataTable =\n",
              "          await google.colab.kernel.invokeFunction('convertToInteractive',\n",
              "                                                    [key], {});\n",
              "        if (!dataTable) return;\n",
              "\n",
              "        const docLinkHtml = 'Like what you see? Visit the ' +\n",
              "          '<a target=\"_blank\" href=https://colab.research.google.com/notebooks/data_table.ipynb>data table notebook</a>'\n",
              "          + ' to learn more about interactive tables.';\n",
              "        element.innerHTML = '';\n",
              "        dataTable['output_type'] = 'display_data';\n",
              "        await google.colab.output.renderOutput(dataTable, element);\n",
              "        const docLink = document.createElement('div');\n",
              "        docLink.innerHTML = docLinkHtml;\n",
              "        element.appendChild(docLink);\n",
              "      }\n",
              "    </script>\n",
              "  </div>\n",
              "\n",
              "\n",
              "    <div id=\"df-ec0a9bc3-67b5-44e3-9cce-0ce50d881245\">\n",
              "      <button class=\"colab-df-quickchart\" onclick=\"quickchart('df-ec0a9bc3-67b5-44e3-9cce-0ce50d881245')\"\n",
              "                title=\"Suggest charts\"\n",
              "                style=\"display:none;\">\n",
              "\n",
              "<svg xmlns=\"http://www.w3.org/2000/svg\" height=\"24px\"viewBox=\"0 0 24 24\"\n",
              "     width=\"24px\">\n",
              "    <g>\n",
              "        <path d=\"M19 3H5c-1.1 0-2 .9-2 2v14c0 1.1.9 2 2 2h14c1.1 0 2-.9 2-2V5c0-1.1-.9-2-2-2zM9 17H7v-7h2v7zm4 0h-2V7h2v10zm4 0h-2v-4h2v4z\"/>\n",
              "    </g>\n",
              "</svg>\n",
              "      </button>\n",
              "\n",
              "<style>\n",
              "  .colab-df-quickchart {\n",
              "      --bg-color: #E8F0FE;\n",
              "      --fill-color: #1967D2;\n",
              "      --hover-bg-color: #E2EBFA;\n",
              "      --hover-fill-color: #174EA6;\n",
              "      --disabled-fill-color: #AAA;\n",
              "      --disabled-bg-color: #DDD;\n",
              "  }\n",
              "\n",
              "  [theme=dark] .colab-df-quickchart {\n",
              "      --bg-color: #3B4455;\n",
              "      --fill-color: #D2E3FC;\n",
              "      --hover-bg-color: #434B5C;\n",
              "      --hover-fill-color: #FFFFFF;\n",
              "      --disabled-bg-color: #3B4455;\n",
              "      --disabled-fill-color: #666;\n",
              "  }\n",
              "\n",
              "  .colab-df-quickchart {\n",
              "    background-color: var(--bg-color);\n",
              "    border: none;\n",
              "    border-radius: 50%;\n",
              "    cursor: pointer;\n",
              "    display: none;\n",
              "    fill: var(--fill-color);\n",
              "    height: 32px;\n",
              "    padding: 0;\n",
              "    width: 32px;\n",
              "  }\n",
              "\n",
              "  .colab-df-quickchart:hover {\n",
              "    background-color: var(--hover-bg-color);\n",
              "    box-shadow: 0 1px 2px rgba(60, 64, 67, 0.3), 0 1px 3px 1px rgba(60, 64, 67, 0.15);\n",
              "    fill: var(--button-hover-fill-color);\n",
              "  }\n",
              "\n",
              "  .colab-df-quickchart-complete:disabled,\n",
              "  .colab-df-quickchart-complete:disabled:hover {\n",
              "    background-color: var(--disabled-bg-color);\n",
              "    fill: var(--disabled-fill-color);\n",
              "    box-shadow: none;\n",
              "  }\n",
              "\n",
              "  .colab-df-spinner {\n",
              "    border: 2px solid var(--fill-color);\n",
              "    border-color: transparent;\n",
              "    border-bottom-color: var(--fill-color);\n",
              "    animation:\n",
              "      spin 1s steps(1) infinite;\n",
              "  }\n",
              "\n",
              "  @keyframes spin {\n",
              "    0% {\n",
              "      border-color: transparent;\n",
              "      border-bottom-color: var(--fill-color);\n",
              "      border-left-color: var(--fill-color);\n",
              "    }\n",
              "    20% {\n",
              "      border-color: transparent;\n",
              "      border-left-color: var(--fill-color);\n",
              "      border-top-color: var(--fill-color);\n",
              "    }\n",
              "    30% {\n",
              "      border-color: transparent;\n",
              "      border-left-color: var(--fill-color);\n",
              "      border-top-color: var(--fill-color);\n",
              "      border-right-color: var(--fill-color);\n",
              "    }\n",
              "    40% {\n",
              "      border-color: transparent;\n",
              "      border-right-color: var(--fill-color);\n",
              "      border-top-color: var(--fill-color);\n",
              "    }\n",
              "    60% {\n",
              "      border-color: transparent;\n",
              "      border-right-color: var(--fill-color);\n",
              "    }\n",
              "    80% {\n",
              "      border-color: transparent;\n",
              "      border-right-color: var(--fill-color);\n",
              "      border-bottom-color: var(--fill-color);\n",
              "    }\n",
              "    90% {\n",
              "      border-color: transparent;\n",
              "      border-bottom-color: var(--fill-color);\n",
              "    }\n",
              "  }\n",
              "</style>\n",
              "\n",
              "      <script>\n",
              "        async function quickchart(key) {\n",
              "          const quickchartButtonEl =\n",
              "            document.querySelector('#' + key + ' button');\n",
              "          quickchartButtonEl.disabled = true;  // To prevent multiple clicks.\n",
              "          quickchartButtonEl.classList.add('colab-df-spinner');\n",
              "          try {\n",
              "            const charts = await google.colab.kernel.invokeFunction(\n",
              "                'suggestCharts', [key], {});\n",
              "          } catch (error) {\n",
              "            console.error('Error during call to suggestCharts:', error);\n",
              "          }\n",
              "          quickchartButtonEl.classList.remove('colab-df-spinner');\n",
              "          quickchartButtonEl.classList.add('colab-df-quickchart-complete');\n",
              "        }\n",
              "        (() => {\n",
              "          let quickchartButtonEl =\n",
              "            document.querySelector('#df-ec0a9bc3-67b5-44e3-9cce-0ce50d881245 button');\n",
              "          quickchartButtonEl.style.display =\n",
              "            google.colab.kernel.accessAllowed ? 'block' : 'none';\n",
              "        })();\n",
              "      </script>\n",
              "    </div>\n",
              "\n",
              "  <div id=\"id_58ce6f48-2925-480d-9e8e-cf641149e22f\">\n",
              "    <style>\n",
              "      .colab-df-generate {\n",
              "        background-color: #E8F0FE;\n",
              "        border: none;\n",
              "        border-radius: 50%;\n",
              "        cursor: pointer;\n",
              "        display: none;\n",
              "        fill: #1967D2;\n",
              "        height: 32px;\n",
              "        padding: 0 0 0 0;\n",
              "        width: 32px;\n",
              "      }\n",
              "\n",
              "      .colab-df-generate:hover {\n",
              "        background-color: #E2EBFA;\n",
              "        box-shadow: 0px 1px 2px rgba(60, 64, 67, 0.3), 0px 1px 3px 1px rgba(60, 64, 67, 0.15);\n",
              "        fill: #174EA6;\n",
              "      }\n",
              "\n",
              "      [theme=dark] .colab-df-generate {\n",
              "        background-color: #3B4455;\n",
              "        fill: #D2E3FC;\n",
              "      }\n",
              "\n",
              "      [theme=dark] .colab-df-generate:hover {\n",
              "        background-color: #434B5C;\n",
              "        box-shadow: 0px 1px 3px 1px rgba(0, 0, 0, 0.15);\n",
              "        filter: drop-shadow(0px 1px 2px rgba(0, 0, 0, 0.3));\n",
              "        fill: #FFFFFF;\n",
              "      }\n",
              "    </style>\n",
              "    <button class=\"colab-df-generate\" onclick=\"generateWithVariable('df')\"\n",
              "            title=\"Generate code using this dataframe.\"\n",
              "            style=\"display:none;\">\n",
              "\n",
              "  <svg xmlns=\"http://www.w3.org/2000/svg\" height=\"24px\"viewBox=\"0 0 24 24\"\n",
              "       width=\"24px\">\n",
              "    <path d=\"M7,19H8.4L18.45,9,17,7.55,7,17.6ZM5,21V16.75L18.45,3.32a2,2,0,0,1,2.83,0l1.4,1.43a1.91,1.91,0,0,1,.58,1.4,1.91,1.91,0,0,1-.58,1.4L9.25,21ZM18.45,9,17,7.55Zm-12,3A5.31,5.31,0,0,0,4.9,8.1,5.31,5.31,0,0,0,1,6.5,5.31,5.31,0,0,0,4.9,4.9,5.31,5.31,0,0,0,6.5,1,5.31,5.31,0,0,0,8.1,4.9,5.31,5.31,0,0,0,12,6.5,5.46,5.46,0,0,0,6.5,12Z\"/>\n",
              "  </svg>\n",
              "    </button>\n",
              "    <script>\n",
              "      (() => {\n",
              "      const buttonEl =\n",
              "        document.querySelector('#id_58ce6f48-2925-480d-9e8e-cf641149e22f button.colab-df-generate');\n",
              "      buttonEl.style.display =\n",
              "        google.colab.kernel.accessAllowed ? 'block' : 'none';\n",
              "\n",
              "      buttonEl.onclick = () => {\n",
              "        google.colab.notebook.generateWithVariable('df');\n",
              "      }\n",
              "      })();\n",
              "    </script>\n",
              "  </div>\n",
              "\n",
              "    </div>\n",
              "  </div>\n"
            ],
            "application/vnd.google.colaboratory.intrinsic+json": {
              "type": "dataframe",
              "variable_name": "df",
              "summary": "{\n  \"name\": \"df\",\n  \"rows\": 6,\n  \"fields\": [\n    {\n      \"column\": \"rank_min\",\n      \"properties\": {\n        \"dtype\": \"number\",\n        \"std\": 2.041241452319315,\n        \"min\": 1.0,\n        \"max\": 6.0,\n        \"num_unique_values\": 4,\n        \"samples\": [\n          3.0,\n          6.0,\n          1.0\n        ],\n        \"semantic_type\": \"\",\n        \"description\": \"\"\n      }\n    },\n    {\n      \"column\": \"rank_first\",\n      \"properties\": {\n        \"dtype\": \"number\",\n        \"std\": 1.8708286933869707,\n        \"min\": 1.0,\n        \"max\": 6.0,\n        \"num_unique_values\": 6,\n        \"samples\": [\n          1.0,\n          2.0,\n          6.0\n        ],\n        \"semantic_type\": \"\",\n        \"description\": \"\"\n      }\n    },\n    {\n      \"column\": \"rank_dense\",\n      \"properties\": {\n        \"dtype\": \"number\",\n        \"std\": 1.1690451944500122,\n        \"min\": 1.0,\n        \"max\": 4.0,\n        \"num_unique_values\": 4,\n        \"samples\": [\n          2.0,\n          4.0,\n          1.0\n        ],\n        \"semantic_type\": \"\",\n        \"description\": \"\"\n      }\n    },\n    {\n      \"column\": \"rank_avg\",\n      \"properties\": {\n        \"dtype\": \"number\",\n        \"std\": 1.816590212458495,\n        \"min\": 1.5,\n        \"max\": 6.0,\n        \"num_unique_values\": 4,\n        \"samples\": [\n          3.5,\n          6.0,\n          1.5\n        ],\n        \"semantic_type\": \"\",\n        \"description\": \"\"\n      }\n    }\n  ]\n}"
            }
          },
          "metadata": {},
          "execution_count": 13
        }
      ]
    },
    {
      "cell_type": "code",
      "source": [
        "# categorize w/ list comprehension\n",
        "\n",
        "from sklearn.datasets import load_iris\n",
        "iris = load_iris()\n",
        "df = pd.DataFrame(data=iris.data, columns=iris.feature_names)\n",
        "\n",
        "df['cat2'] = [\"L\" if x > 5.5 else \"S\" for x in df['sepal length (cm)']]\n",
        "df['cat3'] = [\"L\" if x > 6 else (\"S\" if x <= 5 else \"M\") for x in df['sepal length (cm)']]\n",
        "df['cat4'] = [\"L\" if x > 6 else (\"S\" if x <= 5 else (\"LM\" if x > 5.5 else \"SM\")) for x in df['sepal length (cm)']]\n",
        "\n",
        "print(df[['sepal length (cm)','cat2','cat3','cat4']].head(20))"
      ],
      "metadata": {
        "colab": {
          "base_uri": "https://localhost:8080/"
        },
        "id": "cZ1jFFiZt63Y",
        "outputId": "070f8596-bc65-47f4-fe17-7b6e3d522ea6"
      },
      "execution_count": 14,
      "outputs": [
        {
          "output_type": "stream",
          "name": "stdout",
          "text": [
            "    sepal length (cm) cat2 cat3 cat4\n",
            "0                 5.1    S    M   SM\n",
            "1                 4.9    S    S    S\n",
            "2                 4.7    S    S    S\n",
            "3                 4.6    S    S    S\n",
            "4                 5.0    S    S    S\n",
            "5                 5.4    S    M   SM\n",
            "6                 4.6    S    S    S\n",
            "7                 5.0    S    S    S\n",
            "8                 4.4    S    S    S\n",
            "9                 4.9    S    S    S\n",
            "10                5.4    S    M   SM\n",
            "11                4.8    S    S    S\n",
            "12                4.8    S    S    S\n",
            "13                4.3    S    S    S\n",
            "14                5.8    L    M   LM\n",
            "15                5.7    L    M   LM\n",
            "16                5.4    S    M   SM\n",
            "17                5.1    S    M   SM\n",
            "18                5.7    L    M   LM\n",
            "19                5.1    S    M   SM\n"
          ]
        }
      ]
    },
    {
      "cell_type": "code",
      "source": [
        "# categorize w/ function and apply\n",
        "\n",
        "def categorize(x) :\n",
        "  if x > 6 :\n",
        "    return \"Long\"\n",
        "  elif x > 5 :\n",
        "    return \"Medium\"\n",
        "  else :\n",
        "    return \"Short\"\n",
        "\n",
        "df['cat3-1'] = df['sepal length (cm)'].apply(categorize)\n",
        "print(df[['sepal length (cm)','cat2','cat3','cat3-1']].head(10))\n",
        "print(df['cat3'].value_counts())\n",
        "print(df['cat3-1'].value_counts())"
      ],
      "metadata": {
        "colab": {
          "base_uri": "https://localhost:8080/"
        },
        "id": "MEXsMGO1vKr9",
        "outputId": "5c8b31a2-8b0b-4b5e-9356-817d99710e4a"
      },
      "execution_count": 15,
      "outputs": [
        {
          "output_type": "stream",
          "name": "stdout",
          "text": [
            "   sepal length (cm) cat2 cat3  cat3-1\n",
            "0                5.1    S    M  Medium\n",
            "1                4.9    S    S   Short\n",
            "2                4.7    S    S   Short\n",
            "3                4.6    S    S   Short\n",
            "4                5.0    S    S   Short\n",
            "5                5.4    S    M  Medium\n",
            "6                4.6    S    S   Short\n",
            "7                5.0    S    S   Short\n",
            "8                4.4    S    S   Short\n",
            "9                4.9    S    S   Short\n",
            "cat3\n",
            "L    61\n",
            "M    57\n",
            "S    32\n",
            "Name: count, dtype: int64\n",
            "cat3-1\n",
            "Long      61\n",
            "Medium    57\n",
            "Short     32\n",
            "Name: count, dtype: int64\n"
          ]
        }
      ]
    },
    {
      "cell_type": "code",
      "source": [
        "# rename columns\n",
        "df_rn = df.rename(columns={'cat3-1' : 'cat3-a'})\n",
        "print(df_rn.columns.tolist())"
      ],
      "metadata": {
        "colab": {
          "base_uri": "https://localhost:8080/"
        },
        "id": "A6UNMu32v9GN",
        "outputId": "dea55047-10b6-4743-d425-6817ae268327"
      },
      "execution_count": 16,
      "outputs": [
        {
          "output_type": "stream",
          "name": "stdout",
          "text": [
            "['sepal length (cm)', 'sepal width (cm)', 'petal length (cm)', 'petal width (cm)', 'cat2', 'cat3', 'cat4', 'cat3-a']\n"
          ]
        }
      ]
    },
    {
      "cell_type": "code",
      "source": [
        "# null check\n",
        "\n",
        "print(df_rn.isnull().sum())\n",
        "print(df_rn.isnull().sum().sum())\n",
        "\n",
        "df_rn['na'] = np.nan\n",
        "df_rn['na'] = df_rn['na'].fillna(df['sepal length (cm)'].mean())\n",
        "\n",
        "print(df_rn.head())"
      ],
      "metadata": {
        "colab": {
          "base_uri": "https://localhost:8080/"
        },
        "id": "yN6-A2m0v9iC",
        "outputId": "ba47b8ff-4cbd-4cca-a2e5-8ef77eab3ca5"
      },
      "execution_count": 17,
      "outputs": [
        {
          "output_type": "stream",
          "name": "stdout",
          "text": [
            "sepal length (cm)    0\n",
            "sepal width (cm)     0\n",
            "petal length (cm)    0\n",
            "petal width (cm)     0\n",
            "cat2                 0\n",
            "cat3                 0\n",
            "cat4                 0\n",
            "cat3-a               0\n",
            "dtype: int64\n",
            "0\n",
            "   sepal length (cm)  sepal width (cm)  petal length (cm)  petal width (cm)  \\\n",
            "0                5.1               3.5                1.4               0.2   \n",
            "1                4.9               3.0                1.4               0.2   \n",
            "2                4.7               3.2                1.3               0.2   \n",
            "3                4.6               3.1                1.5               0.2   \n",
            "4                5.0               3.6                1.4               0.2   \n",
            "\n",
            "  cat2 cat3 cat4  cat3-a        na  \n",
            "0    S    M   SM  Medium  5.843333  \n",
            "1    S    S    S   Short  5.843333  \n",
            "2    S    S    S   Short  5.843333  \n",
            "3    S    S    S   Short  5.843333  \n",
            "4    S    S    S   Short  5.843333  \n"
          ]
        }
      ]
    },
    {
      "cell_type": "code",
      "source": [
        "# merge, concat\n",
        "\n",
        "df_l = pd.DataFrame({'name':['a','a','b','c'], 'math':[0,1,2,3]})\n",
        "df_r = pd.DataFrame({'name':['c','b','b','d'], 'english':[4,5,6,7]})\n",
        "\n",
        "df_merge = pd.merge(df_l, df_r, left_on='name', right_on='name', how='inner')\n",
        "df_concat = pd.concat([df_l,df_r], axis=0)\n",
        "\n",
        "print(df_merge)\n",
        "print(df_concat)"
      ],
      "metadata": {
        "colab": {
          "base_uri": "https://localhost:8080/"
        },
        "id": "2x7kQ0BjxhiR",
        "outputId": "107910e8-cfd1-4d33-8ba4-a662f1b28678"
      },
      "execution_count": 18,
      "outputs": [
        {
          "output_type": "stream",
          "name": "stdout",
          "text": [
            "  name  math  english\n",
            "0    b     2        5\n",
            "1    b     2        6\n",
            "2    c     3        4\n",
            "  name  math  english\n",
            "0    a   0.0      NaN\n",
            "1    a   1.0      NaN\n",
            "2    b   2.0      NaN\n",
            "3    c   3.0      NaN\n",
            "0    c   NaN      4.0\n",
            "1    b   NaN      5.0\n",
            "2    b   NaN      6.0\n",
            "3    d   NaN      7.0\n"
          ]
        }
      ]
    },
    {
      "cell_type": "markdown",
      "source": [
        "### 이상치 제어\n",
        "1. z-score (X-Mu / std) < 3  기반\n",
        "2. 1.5*iqr 기반"
      ],
      "metadata": {
        "id": "EEfLAW0yO2Ws"
      }
    },
    {
      "cell_type": "code",
      "source": [
        "# outliers handling 이상치 제거\n",
        "# 1) z-score (normal dist.기반) :abs(X-Mu/std)<3\n",
        "\n",
        "df = pd.DataFrame({'score' : [1,1,1,1,1,1,1,1,2,5,10,100,1000,10000],\n",
        "                   'name' : ['A','B','C','D','E','F','G','H','I','J','K','L','M','N']})\n",
        "\n",
        "def esd(x) :\n",
        "  return abs(x-x.mean()/x.std()) < 3\n",
        "\n",
        "print(\"x.mean() :\", x.mean(), \"\\n\")\n",
        "print(df.loc[esd(df.score)], \"\\n\")\n",
        "print(esd(df.score))"
      ],
      "metadata": {
        "colab": {
          "base_uri": "https://localhost:8080/"
        },
        "id": "Ktf3lgytxht6",
        "outputId": "31bcf407-02c6-484a-93f4-3be5ddc7078c"
      },
      "execution_count": 19,
      "outputs": [
        {
          "output_type": "stream",
          "name": "stdout",
          "text": [
            "x.mean() : 4.666666666666667 \n",
            "\n",
            "   score name\n",
            "0      1    A\n",
            "1      1    B\n",
            "2      1    C\n",
            "3      1    D\n",
            "4      1    E\n",
            "5      1    F\n",
            "6      1    G\n",
            "7      1    H\n",
            "8      2    I \n",
            "\n",
            "0      True\n",
            "1      True\n",
            "2      True\n",
            "3      True\n",
            "4      True\n",
            "5      True\n",
            "6      True\n",
            "7      True\n",
            "8      True\n",
            "9     False\n",
            "10    False\n",
            "11    False\n",
            "12    False\n",
            "13    False\n",
            "Name: score, dtype: bool\n"
          ]
        }
      ]
    },
    {
      "cell_type": "code",
      "source": [
        "# outliers handling 이상치 제거\n",
        "# 2) iqr based (x < q1-1.5iqr or x > q3+1.5iqr) (iqr=q3-q1)\n",
        "\n",
        "df = pd.DataFrame({'score' : [1,1,1,1,1,1,1,1,2,5,10,100,1000,10000],\n",
        "                   'name' : ['A','B','C','D','E','F','G','H','I','J','K','L','M','N']})\n",
        "\n",
        "q1 = np.quantile(df.score, q=0.25)\n",
        "q2 = np.quantile(df.score, q=0.50)\n",
        "q3 = np.quantile(df.score, q=0.75)\n",
        "\n",
        "iqr = q3 - q1\n",
        "\n",
        "df1 = df.loc[((df.score >= q1-1.5*iqr) & (df.score <= q3+1.5*iqr))]\n",
        "\n",
        "print(\"quantiles : \", q1,q2,q3)\n",
        "print(\"iqr : \", iqr)\n",
        "print(df1)"
      ],
      "metadata": {
        "colab": {
          "base_uri": "https://localhost:8080/"
        },
        "id": "U1xKARKgxh00",
        "outputId": "2b0b4812-80fa-4c64-a71e-7b4693a12af7"
      },
      "execution_count": 20,
      "outputs": [
        {
          "output_type": "stream",
          "name": "stdout",
          "text": [
            "quantiles :  1.0 1.0 8.75\n",
            "iqr :  7.75\n",
            "    score name\n",
            "0       1    A\n",
            "1       1    B\n",
            "2       1    C\n",
            "3       1    D\n",
            "4       1    E\n",
            "5       1    F\n",
            "6       1    G\n",
            "7       1    H\n",
            "8       2    I\n",
            "9       5    J\n",
            "10     10    K\n"
          ]
        }
      ]
    },
    {
      "cell_type": "markdown",
      "source": [
        "### 정규화\n",
        "- MinMaxScaler (x-min / max-min)\n",
        "- 이상치에 민감\n",
        "- 거리기반 모델(KNN, SVM)에 적절"
      ],
      "metadata": {
        "id": "7QEhS30PRnqh"
      }
    },
    {
      "cell_type": "code",
      "source": [
        "# min-max scaling 최대최소 정규화\n",
        "# formular : (x - min) / (max - min)\n",
        "\n",
        "from sklearn.preprocessing import MinMaxScaler\n",
        "\n",
        "data = np.array([1,3,5,10,15,35,70,150,350,480,900,1200,1800,5000])\n",
        "data_reshape = data.reshape(-1,1)\n",
        "\n",
        "scaled = MinMaxScaler().fit_transform(data_reshape)\n",
        "print(scaled)"
      ],
      "metadata": {
        "colab": {
          "base_uri": "https://localhost:8080/"
        },
        "id": "U7NkAWhzxh7h",
        "outputId": "2696bede-7f50-44ca-e767-40a70e5dfb0b"
      },
      "execution_count": 21,
      "outputs": [
        {
          "output_type": "stream",
          "name": "stdout",
          "text": [
            "[[0.00000000e+00]\n",
            " [4.00080016e-04]\n",
            " [8.00160032e-04]\n",
            " [1.80036007e-03]\n",
            " [2.80056011e-03]\n",
            " [6.80136027e-03]\n",
            " [1.38027606e-02]\n",
            " [2.98059612e-02]\n",
            " [6.98139628e-02]\n",
            " [9.58191638e-02]\n",
            " [1.79835967e-01]\n",
            " [2.39847970e-01]\n",
            " [3.59871974e-01]\n",
            " [1.00000000e+00]]\n"
          ]
        }
      ]
    },
    {
      "cell_type": "markdown",
      "source": [
        "### 표준화"
      ],
      "metadata": {
        "id": "Y120Ahk0TKlw"
      }
    },
    {
      "cell_type": "code",
      "source": [
        "# standardize 표준화 (1) 수기로\n",
        "# formular : (x - np.mean) / np.std\n",
        "\n",
        "data = np.array([1,3,5,10,15,35,70,150,350,480,900,1200,1800,5000])\n",
        "\n",
        "def standardize(a) :\n",
        "  return (a-np.mean(a)) / np.std(a)\n",
        "\n",
        "data_z = standardize(data)\n",
        "print(data_z)\n",
        "print(np.mean(data_z))"
      ],
      "metadata": {
        "colab": {
          "base_uri": "https://localhost:8080/"
        },
        "id": "ok4hAXDTxiBd",
        "outputId": "213fcde8-28bc-4ba2-8104-3ba6fa4d91bf"
      },
      "execution_count": 22,
      "outputs": [
        {
          "output_type": "stream",
          "name": "stdout",
          "text": [
            "[-0.54923963 -0.54770253 -0.54616543 -0.54232267 -0.53847992 -0.52310889\n",
            " -0.4962096  -0.4347255  -0.28101526 -0.1811036   0.14168791  0.37225327\n",
            "  0.83338399  3.29274787]\n",
            "0.0\n"
          ]
        }
      ]
    },
    {
      "cell_type": "code",
      "source": [
        "# standardize 표준화 (2) sklearn.StandardScaler 사용해서\n",
        "\n",
        "from sklearn.preprocessing import StandardScaler\n",
        "\n",
        "data = np.array([1,3,5,10,15,35,70,150,350,480,900,1200,1800,5000])\n",
        "\n",
        "data_reshape = data.reshape(-1,1)\n",
        "data_z = StandardScaler().fit_transform(data_reshape)\n",
        "print(data_z.flatten()) # flatten\n",
        "print(np.mean(data_z))"
      ],
      "metadata": {
        "colab": {
          "base_uri": "https://localhost:8080/"
        },
        "id": "3tD2diqNv9pu",
        "outputId": "ab768a04-606e-45ac-f0ff-85141eaadbf6"
      },
      "execution_count": 23,
      "outputs": [
        {
          "output_type": "stream",
          "name": "stdout",
          "text": [
            "[-0.54923963 -0.54770253 -0.54616543 -0.54232267 -0.53847992 -0.52310889\n",
            " -0.4962096  -0.4347255  -0.28101526 -0.1811036   0.14168791  0.37225327\n",
            "  0.83338399  3.29274787]\n",
            "0.0\n"
          ]
        }
      ]
    },
    {
      "cell_type": "code",
      "source": [
        "# pd.pivot_table (df의 컬럼들을 index, column, agg values으로 재구성)\n",
        "# pd.pivot_table(data=df, index=, columns=, values=, aggfunc=)\n",
        "\n",
        "df = pd.DataFrame({'score' : [10,0,0,10,100,50,50,10,10,100,50,50],\n",
        "                   'name' : ['A','B','C','D','E','F','G','H','I','J','K','L'],\n",
        "                   'dept' : ['X','Y','Z','Z','Y','Y','X','Z','Y','Z','Y','X']})\n",
        "\n",
        "df_pivot = pd.pivot_table(data=df,index='dept', columns='name',values='score',aggfunc='sum')\n",
        "print(df_pivot)"
      ],
      "metadata": {
        "colab": {
          "base_uri": "https://localhost:8080/"
        },
        "id": "OnkmbwEIEEok",
        "outputId": "a45b981b-4941-4bb6-f800-87db833dc209"
      },
      "execution_count": 24,
      "outputs": [
        {
          "output_type": "stream",
          "name": "stdout",
          "text": [
            "name     A    B    C     D      E     F     G     H     I      J     K     L\n",
            "dept                                                                        \n",
            "X     10.0  NaN  NaN   NaN    NaN   NaN  50.0   NaN   NaN    NaN   NaN  50.0\n",
            "Y      NaN  0.0  NaN   NaN  100.0  50.0   NaN   NaN  10.0    NaN  50.0   NaN\n",
            "Z      NaN  NaN  0.0  10.0    NaN   NaN   NaN  10.0   NaN  100.0   NaN   NaN\n"
          ]
        }
      ]
    },
    {
      "cell_type": "code",
      "source": [
        "# unstack (멀티인덱스를 인덱스-컬럼으로 재구성)\n",
        "# 추가적으로 필요시 transpose()\n",
        "\n",
        "df = pd.DataFrame({'score' : [10,0,0,10,100,50,50,10,10,100,50,50],\n",
        "                   'name' : ['A','B','C','D','E','F','G','H','I','J','K','L'],\n",
        "                   'dept' : ['X','Y','Z','Z','Y','Y','X','Z','Y','Z','Y','X']})\n",
        "\n",
        "df = df.set_index(['name','dept'])\n",
        "\n",
        "df_u = df.unstack()\n",
        "df_ut = df_u.transpose()\n",
        "\n",
        "print(df, \"\\n\")\n",
        "print(df_u, \"\\n\", df_ut)"
      ],
      "metadata": {
        "colab": {
          "base_uri": "https://localhost:8080/"
        },
        "id": "nIY5mnAZv9x0",
        "outputId": "b5ae6345-8f92-45f6-df5a-e2274d91a1dd"
      },
      "execution_count": 25,
      "outputs": [
        {
          "output_type": "stream",
          "name": "stdout",
          "text": [
            "           score\n",
            "name dept       \n",
            "A    X        10\n",
            "B    Y         0\n",
            "C    Z         0\n",
            "D    Z        10\n",
            "E    Y       100\n",
            "F    Y        50\n",
            "G    X        50\n",
            "H    Z        10\n",
            "I    Y        10\n",
            "J    Z       100\n",
            "K    Y        50\n",
            "L    X        50 \n",
            "\n",
            "     score              \n",
            "dept     X      Y      Z\n",
            "name                    \n",
            "A     10.0    NaN    NaN\n",
            "B      NaN    0.0    NaN\n",
            "C      NaN    NaN    0.0\n",
            "D      NaN    NaN   10.0\n",
            "E      NaN  100.0    NaN\n",
            "F      NaN   50.0    NaN\n",
            "G     50.0    NaN    NaN\n",
            "H      NaN    NaN   10.0\n",
            "I      NaN   10.0    NaN\n",
            "J      NaN    NaN  100.0\n",
            "K      NaN   50.0    NaN\n",
            "L     50.0    NaN    NaN \n",
            " name           A    B    C     D      E     F     G     H     I      J     K  \\\n",
            "      dept                                                                     \n",
            "score X     10.0  NaN  NaN   NaN    NaN   NaN  50.0   NaN   NaN    NaN   NaN   \n",
            "      Y      NaN  0.0  NaN   NaN  100.0  50.0   NaN   NaN  10.0    NaN  50.0   \n",
            "      Z      NaN  NaN  0.0  10.0    NaN   NaN   NaN  10.0   NaN  100.0   NaN   \n",
            "\n",
            "name           L  \n",
            "      dept        \n",
            "score X     50.0  \n",
            "      Y      NaN  \n",
            "      Z      NaN  \n"
          ]
        }
      ]
    },
    {
      "cell_type": "markdown",
      "source": [
        "### scipy statistics-test"
      ],
      "metadata": {
        "id": "dHWfRD6uJKDo"
      }
    },
    {
      "cell_type": "code",
      "source": [
        "### scipy 통계검정\n",
        "\n",
        "## 연속형변수 평균차이 검정 (1표본, 2표본, 다표본)\n",
        "# 1표본\n",
        "from scipy.stats import norm # 정규분포에서 누적분포함수값 / norm.cdf(z) / 모집단분산을 알고있을 경우 z검정, 그렇지않은 경우 t검정\n",
        "from scipy.stats import shapiro, ttest_1samp, wilcoxon # 정규성(shapiro H0:정규성만족), H0기각시 wilcoxon\n",
        "from scipy.stats import shapiro, ttest_rel # 쌍체표본 검정 (처치 전후 비교)\n",
        "\n",
        "# 2표본\n",
        "from scipy.stats import shapiro, ttest_ind, levene, mannwhitneyu # shapiro(정규성) 및 levene(등분산성)확인, 정규성기각시 mannwhitney-u검정\n",
        "\n",
        "# 3개이상 다표본\n",
        "from statsmodels.stats.anova import anova_lm # 일원분산분석\n",
        "\n",
        "## 범주형변수 집단\n",
        "# 분산(분포)차이 검정\n",
        "from scipy.stats import f, levene, bartlett\n",
        "\n",
        "# 적합도검정 (1d)\n",
        "from scipy.stats import chisquare\n",
        "\n",
        "# 독립성검정 (2d)\n",
        "from scipy.stats import chi2_contingency"
      ],
      "metadata": {
        "id": "y-4_l9nAW6nT"
      },
      "execution_count": 26,
      "outputs": []
    },
    {
      "cell_type": "markdown",
      "source": [
        "(참고) <br>\n",
        "일원 분산분석 (One-way ANOVA)\n",
        "- 한 가지 요인이 3개 이상 집단 간 평균에 영향을 미치는지를 검정할 때 사용\n",
        "- 예: 광고 유형(TV/온라인/인쇄)에 따라 매출 평균이 다른가?\n",
        "\n",
        "이원 분산분석 (Two-way ANOVA)\n",
        "- 두 가지 요인의 주효과 및 상호작용 효과까지 검정할 때 사용\n",
        "- 예: 광고 유형과 성별이 매출 평균에 미치는 영향 및 상호작용까지 확인"
      ],
      "metadata": {
        "id": "y_xCEAXubQkJ"
      }
    },
    {
      "cell_type": "markdown",
      "source": [
        "### 1표본\n",
        "- z-score와 다르게 z검정에서의 z통계량 공식은 (Samp_mean-mu) / (sigma / N**0.5)\n",
        "- p_value = 2* (1-norm(cdf(z))"
      ],
      "metadata": {
        "id": "tJvGXihaqp9F"
      }
    },
    {
      "cell_type": "code",
      "source": [
        "# z검정\n",
        "\n",
        "from scipy.stats import norm\n",
        "\n",
        "df = pd.DataFrame({'nums' : [12,14,16,19,11,17,13,5,6,2,4,25,27,29,24]})\n",
        "\n",
        "samp = df['nums']\n",
        "mu = 11 # 모평균\n",
        "sigma = 3\n",
        "\n",
        "# z통계량 공식 : (X-mu) / sigma.N**0.5\n",
        "z = (np.mean(samp)-mu) / (sigma/np.sqrt(len(samp)))\n",
        "p_value = 2*(1-norm.cdf(z)) # 양측검정\n",
        "\n",
        "print(z, p_value)"
      ],
      "metadata": {
        "colab": {
          "base_uri": "https://localhost:8080/"
        },
        "id": "gVHdyA3UpVPH",
        "outputId": "6b0439a2-f16b-4291-af04-088a12a20f5f"
      },
      "execution_count": 27,
      "outputs": [
        {
          "output_type": "stream",
          "name": "stdout",
          "text": [
            "5.0779114983608356 3.8160636495199185e-07\n"
          ]
        }
      ]
    },
    {
      "cell_type": "code",
      "source": [
        "# 1-samp t 검정\n",
        "# c.f) shapiro -> H0:정규성 만족\n",
        "# ttest_1samp(df['a'], popmean=10 , alternative='two-sided')\n",
        "# wilcoxon(df['a']-10, alternative='two-sided')\n",
        "\n",
        "from scipy.stats import shapiro, ttest_1samp, wilcoxon # 정규성(shapiro H0:정규성만족), H0기각시 wilcoxon\n",
        "\n",
        "df = pd.DataFrame({'nums' : [12,14,16,19,11,17,13,5,6,2,4,25,27,29,24]})\n",
        "df_w = pd.DataFrame({'nums' : [1012,140,16000,19,11,17,103,5,6,2,4,2580,27,29100,24]})\n",
        "\n",
        "print(\"1) ttest_1samp (정규성만족)\")\n",
        "print(shapiro(df['nums']))\n",
        "res1 = ttest_1samp(df['nums'], popmean=10, alternative='two-sided') # 양측검정\n",
        "print(res1)\n",
        "\n",
        "print(\"2) wilcoxon (정규성불만족)\")\n",
        "print(shapiro(df_w['nums']))\n",
        "res2 = wilcoxon(df_w['nums']-10, alternative='greater') # 단측검정\n",
        "print(res2)"
      ],
      "metadata": {
        "colab": {
          "base_uri": "https://localhost:8080/"
        },
        "id": "DEU4DN6Xv944",
        "outputId": "e4085784-8132-42d4-af19-5f6150e47dfe"
      },
      "execution_count": 28,
      "outputs": [
        {
          "output_type": "stream",
          "name": "stdout",
          "text": [
            "1) ttest_1samp (정규성만족)\n",
            "ShapiroResult(statistic=np.float64(0.9532919654462546), pvalue=np.float64(0.5777056636287256))\n",
            "TtestResult(statistic=np.float64(2.213715642776272), pvalue=np.float64(0.043954652352968596), df=np.int64(14))\n",
            "2) wilcoxon (정규성불만족)\n",
            "ShapiroResult(statistic=np.float64(0.47006491861749355), pvalue=np.float64(2.0362270620122098e-06))\n",
            "WilcoxonResult(statistic=np.float64(105.0), pvalue=np.float64(0.004180908203125))\n"
          ]
        }
      ]
    },
    {
      "cell_type": "code",
      "source": [
        "# relative ttest (대응표본 t 검정)\n",
        "# ttest_rel(after, before, alternative=, )\n",
        "\n",
        "from scipy.stats import shapiro, ttest_rel # 쌍체표본 검정 (처치 전후 비교)\n",
        "\n",
        "data = pd.DataFrame({'before' : [5,3,8,4,3,2,1],\n",
        "                     'after' : [8,6,6,5,8,7,3]})\n",
        "\n",
        "res = ttest_rel(data['after'], data['before'], alternative='greater') # 단측검정(after가 더 커졌는지)\n",
        "print(res)"
      ],
      "metadata": {
        "colab": {
          "base_uri": "https://localhost:8080/"
        },
        "id": "bYRwfDoiD97G",
        "outputId": "6e40bc5c-df59-450b-9570-8a9342cdfb95"
      },
      "execution_count": 29,
      "outputs": [
        {
          "output_type": "stream",
          "name": "stdout",
          "text": [
            "TtestResult(statistic=np.float64(2.633628675421043), pvalue=np.float64(0.019435182851729293), df=np.int64(6))\n"
          ]
        }
      ]
    },
    {
      "cell_type": "markdown",
      "source": [
        "### 2표본\n",
        "- shapiro -> levene -> main test"
      ],
      "metadata": {
        "id": "rO3b4uYjsnVn"
      }
    },
    {
      "cell_type": "code",
      "source": [
        "from scipy.stats import shapiro, ttest_ind, levene, mannwhitneyu\n",
        "# shapiro(정규성) 및 levene(등분산성)확인, 정규성기각시 mannwhitney-u검정\n",
        "# ttest_ind(x1, x2, alternative=, equal_var=False)\n",
        "\n",
        "N1, N2 = 150,200 # 난수 갯수\n",
        "mu1, mu2 = 1, 1.5 # 평균\n",
        "sigma1,sigma2 = 1.1,1.3 # 표준편차\n",
        "\n",
        "np.random.seed(0)\n",
        "\n",
        "x1 = norm(mu1,sigma1).rvs(N1)\n",
        "x2 = norm(mu2,sigma2).rvs(N2)\n",
        "\n",
        "print(shapiro(x1))\n",
        "print(shapiro(x2), \"\\n\")\n",
        "print(levene(x1,x2), \"\\n\")\n",
        "print(ttest_ind(x1, x2, alternative=\"less\", equal_var=True))"
      ],
      "metadata": {
        "id": "gBxxdwtWD-Bm",
        "colab": {
          "base_uri": "https://localhost:8080/"
        },
        "outputId": "a3f7c551-ba4f-4036-8e7c-6492fc73def2"
      },
      "execution_count": 30,
      "outputs": [
        {
          "output_type": "stream",
          "name": "stdout",
          "text": [
            "ShapiroResult(statistic=np.float64(0.9897557910313672), pvalue=np.float64(0.3452747477455558))\n",
            "ShapiroResult(statistic=np.float64(0.9942986127081611), pvalue=np.float64(0.645203172262183)) \n",
            "\n",
            "LeveneResult(statistic=np.float64(1.0365906859191036), pvalue=np.float64(0.3093230091801344)) \n",
            "\n",
            "TtestResult(statistic=np.float64(-1.767304296624003), pvalue=np.float64(0.0390268259416626), df=np.float64(348.0))\n"
          ]
        }
      ]
    },
    {
      "cell_type": "markdown",
      "source": [
        "- x1,x2 모두 정규성 만족\n",
        "- x1&x2 등분산성 만족(귀무가설채택) (equal_var=True)\n",
        "- 독립표본t검정 결과 귀무가설기각 (통계적으로 x1집단이 x2집단보다 평균이 작다)"
      ],
      "metadata": {
        "id": "7A2d4-ExSf8w"
      }
    },
    {
      "cell_type": "markdown",
      "source": [
        "### 3표본"
      ],
      "metadata": {
        "id": "hrvX_n98ub8Y"
      }
    },
    {
      "cell_type": "code",
      "source": [
        "# ONE-Way ANOVA 일원분산분석\n",
        "\n",
        "group_A = [10, 12, 11, 13]\n",
        "group_B = [8, 9, 10, 7]\n",
        "group_C = [14, 13, 15, 14]\n",
        "\n",
        "print(shapiro(group_A))\n",
        "print(shapiro(group_B))\n",
        "print(shapiro(group_C))\n",
        "\n",
        "print(levene(group_A, group_B, group_C), \"\\n\")\n",
        "stat, pvalue = f_oneway(group_A, group_B, group_C)\n",
        "print(stat, pvalue)"
      ],
      "metadata": {
        "id": "xoT1CDNIpu3J",
        "colab": {
          "base_uri": "https://localhost:8080/"
        },
        "outputId": "b22bfc2e-c6b9-416e-c172-6d2df4531e8c"
      },
      "execution_count": 31,
      "outputs": [
        {
          "output_type": "stream",
          "name": "stdout",
          "text": [
            "ShapiroResult(statistic=np.float64(0.9929120069984326), pvalue=np.float64(0.9718770585603881))\n",
            "ShapiroResult(statistic=np.float64(0.9929120069984326), pvalue=np.float64(0.9718770585603881))\n",
            "ShapiroResult(statistic=np.float64(0.9446643968314482), pvalue=np.float64(0.6829615282579))\n",
            "LeveneResult(statistic=np.float64(1.0), pvalue=np.float64(0.4053444297059028)) \n",
            "\n",
            "22.74999999999997 0.0003022087484017767\n"
          ]
        }
      ]
    },
    {
      "cell_type": "code",
      "source": [
        "# ONE-Way ANOVA 일원분산분석\n",
        "# NOT scipy, but statsmodels.stats.anova\n",
        "\n",
        "from statsmodels.stats.anova import anova_lm # 일원분산분석\n",
        "\n",
        "from sklearn.datasets import load_iris\n",
        "iris = load_iris()\n",
        "df = pd.DataFrame(data=iris.data, columns=iris.feature_names)\n",
        "df['target'] = iris.target\n",
        "\n",
        "df_1anova = df[['sepal length (cm)','petal length (cm)']]\n",
        "df_1anova['len_cat'] = ['L' if x>6 else ('S' if x<=5 else 'M') for x in df_1anova['sepal length (cm)']]\n",
        "\n",
        "df_1anova = df_1anova[['len_cat','petal length (cm)']]\n",
        "df_1anova.columns = ['groups','score']\n",
        "print(df_1anova.head())\n",
        "print(df_1anova.groups.value_counts())"
      ],
      "metadata": {
        "colab": {
          "base_uri": "https://localhost:8080/"
        },
        "id": "qdVMWS1aucPP",
        "outputId": "ae2fb48f-6d70-4849-b63a-bcbdb5b04209"
      },
      "execution_count": 32,
      "outputs": [
        {
          "output_type": "stream",
          "name": "stdout",
          "text": [
            "  groups  score\n",
            "0      M    1.4\n",
            "1      S    1.4\n",
            "2      S    1.3\n",
            "3      S    1.5\n",
            "4      S    1.4\n",
            "groups\n",
            "L    61\n",
            "M    57\n",
            "S    32\n",
            "Name: count, dtype: int64\n"
          ]
        },
        {
          "output_type": "stream",
          "name": "stderr",
          "text": [
            "/tmp/ipython-input-32-1578861885.py:12: SettingWithCopyWarning: \n",
            "A value is trying to be set on a copy of a slice from a DataFrame.\n",
            "Try using .loc[row_indexer,col_indexer] = value instead\n",
            "\n",
            "See the caveats in the documentation: https://pandas.pydata.org/pandas-docs/stable/user_guide/indexing.html#returning-a-view-versus-a-copy\n",
            "  df_1anova['len_cat'] = ['L' if x>6 else ('S' if x<=5 else 'M') for x in df_1anova['sepal length (cm)']]\n"
          ]
        }
      ]
    },
    {
      "cell_type": "code",
      "source": [
        "# 3개의 그룹\n",
        "group1 = df_1anova[df_1anova.groups=='S']['score']\n",
        "group2 = df_1anova[df_1anova.groups=='M']['score']\n",
        "group3 = df_1anova[df_1anova.groups=='L']['score']\n",
        "\n",
        "# 정규성검정\n",
        "print(shapiro(group1))\n",
        "print(shapiro(group2))\n",
        "print(shapiro(group3))"
      ],
      "metadata": {
        "colab": {
          "base_uri": "https://localhost:8080/"
        },
        "id": "K4EkPcphwIN-",
        "outputId": "6b757ef5-1c0e-4c28-906c-9dcb93e47c7f"
      },
      "execution_count": 33,
      "outputs": [
        {
          "output_type": "stream",
          "name": "stdout",
          "text": [
            "ShapiroResult(statistic=np.float64(0.6078571423510649), pvalue=np.float64(4.707048765083472e-08))\n",
            "ShapiroResult(statistic=np.float64(0.8268105165298095), pvalue=np.float64(1.1194893310510352e-06))\n",
            "ShapiroResult(statistic=np.float64(0.9746865711175539), pvalue=np.float64(0.2366319522910567))\n"
          ]
        }
      ]
    },
    {
      "cell_type": "markdown",
      "source": [
        "- 정규성 위배(group1,group2) -> 따라서 one-way ANOVA 는 부적절\n",
        "- 대신에, 비모수적 검정인 kruskal-wallis 검정수행이 바람직"
      ],
      "metadata": {
        "id": "nuGff8soxR2I"
      }
    },
    {
      "cell_type": "code",
      "source": [
        "# 만약 shapiro 만족시 다음 levene 등분산성 검정\n",
        "print(levene(group1,group2,group3))"
      ],
      "metadata": {
        "colab": {
          "base_uri": "https://localhost:8080/"
        },
        "id": "sxqJ3xM8yDlZ",
        "outputId": "153ca455-c695-42ae-f51e-a730cbd5c1fa"
      },
      "execution_count": 34,
      "outputs": [
        {
          "output_type": "stream",
          "name": "stdout",
          "text": [
            "LeveneResult(statistic=np.float64(18.73396003261315), pvalue=np.float64(5.657721384731407e-08))\n"
          ]
        }
      ]
    },
    {
      "cell_type": "markdown",
      "source": [
        "- 등분산성 불만족 -> 따라서 one-way ANOVA 는 부적절\n",
        "- 대신에, Welch's ANOVA 검정수행이 바람직"
      ],
      "metadata": {
        "id": "NiX0eAfTy6mz"
      }
    },
    {
      "cell_type": "code",
      "source": [
        "# 만약 levene 등분산만족시 statsmodels.formula.api (ols) 모델fit시켜서 anova_lm에 적합\n",
        "from statsmodels.formula.api import ols\n",
        "formula = 'score~groups'\n",
        "md = ols(formula, data=df_1anova).fit()\n",
        "\n",
        "# ANOVA 테이블\n",
        "from statsmodels.stats.anova import anova_lm\n",
        "print(anova_lm(md))"
      ],
      "metadata": {
        "colab": {
          "base_uri": "https://localhost:8080/"
        },
        "id": "jcBoXNmuyfW1",
        "outputId": "2af5bce9-c69b-4c2a-d7cb-c1c0465d037e"
      },
      "execution_count": 35,
      "outputs": [
        {
          "output_type": "stream",
          "name": "stdout",
          "text": [
            "             df      sum_sq     mean_sq           F        PR(>F)\n",
            "groups      2.0  299.995212  149.997606  134.178926  6.978722e-34\n",
            "Residual  147.0  164.330188    1.117892         NaN           NaN\n"
          ]
        }
      ]
    },
    {
      "cell_type": "markdown",
      "source": [
        "### F-test\n",
        "- whether variances of two groups are statistically significantly different each otehr."
      ],
      "metadata": {
        "id": "LpEjQxguoZ1e"
      }
    },
    {
      "cell_type": "code",
      "source": [
        "from scipy.stats import f\n",
        "\n",
        "group1 = np.random.normal(10, 2.5, 1000)\n",
        "group2 = np.random.normal(10, 2.2, 1000)\n",
        "\n",
        "print(shapiro(group1))\n",
        "print(shapiro(group2)) # 0.74, 1.11 each, so that we can say shapiro H0 accepted (normal distributed)\n",
        "\n",
        "var1 = np.var(group1, ddof=1)\n",
        "var2 = np.var(group2, ddof=1)\n",
        "print(f\"var1 : {var1:.3f} \\nvar2 : {var2:.3f}\")\n",
        "\n",
        "F = max(var1,var2) / min(var1,var2)\n",
        "\n",
        "df1 = len(group1)-1\n",
        "df2 = len(group2)-1\n",
        "\n",
        "pvalue = 2 * min(f.cdf(F, df1, df2), 1-f.cdf(F, df1, df2))\n",
        "print(df1, df2)\n",
        "print(f\"p_value : {pvalue:.6f}\")"
      ],
      "metadata": {
        "colab": {
          "base_uri": "https://localhost:8080/"
        },
        "id": "DJrlh4kzl0et",
        "outputId": "cb8e3b64-cfff-4fb2-ea27-90ab09fd6202"
      },
      "execution_count": 36,
      "outputs": [
        {
          "output_type": "stream",
          "name": "stdout",
          "text": [
            "ShapiroResult(statistic=np.float64(0.9992508534999845), pvalue=np.float64(0.96832485409357))\n",
            "ShapiroResult(statistic=np.float64(0.9987860813015593), pvalue=np.float64(0.7458288749645481))\n",
            "var1 : 5.876 \n",
            "var2 : 4.653\n",
            "999 999\n",
            "p_value : 0.000229\n"
          ]
        }
      ]
    },
    {
      "cell_type": "markdown",
      "source": [
        "### 범주형 data\n",
        "- chisquare, chi2_contingency,"
      ],
      "metadata": {
        "id": "ZU9l1PaNCP6O"
      }
    },
    {
      "cell_type": "code",
      "source": [
        "# categorical data\n",
        "\n",
        "# goodness-of-fit test (chisquare), independence test(chi2_contingency)\n",
        "# H0: 관찰빈도(f_obs)와 기대빈도(f_exp) 간에 차이가 없다\n",
        "\n",
        "from scipy.stats import chisquare\n",
        "\n",
        "num = np.array([355,801,520])\n",
        "exp = np.array([0.22,0.44,0.34])*np.sum(num)\n",
        "\n",
        "res = chisquare(num, f_exp=exp)\n",
        "print(res)"
      ],
      "metadata": {
        "id": "aduy0uG6D-QP",
        "colab": {
          "base_uri": "https://localhost:8080/"
        },
        "outputId": "3a4713e1-59ae-49ac-f92b-aff7ca371258"
      },
      "execution_count": 37,
      "outputs": [
        {
          "output_type": "stream",
          "name": "stdout",
          "text": [
            "Power_divergenceResult(statistic=np.float64(10.347922223782113), pvalue=np.float64(0.00566209614384885))\n"
          ]
        }
      ]
    },
    {
      "cell_type": "code",
      "source": [
        "# independence test (chi2_contingency)\n",
        "\n",
        "from scipy.stats import chi2_contingency\n",
        "from sklearn.datasets import load_iris\n",
        "iris = load_iris()\n",
        "df = pd.DataFrame(data=iris.data, columns=iris.feature_names)\n",
        "\n",
        "df['cat_len'] = [\"L\" if x>6 else (\"S\" if x<=5 else \"M\") for x in df['sepal length (cm)']]\n",
        "df['cat_wid'] = [\"W\" if x>3 else \"N\" for x in df['sepal width (cm)']]\n",
        "\n",
        "# crosstab form으로 chi2 test에 직접 대입할 수 있음.\n",
        "crtb = pd.crosstab(df['cat_len'], df['cat_wid'])\n",
        "print(crtb, \"\\n\")\n",
        "\n",
        "res = chi2_contingency(crtb)\n",
        "print(res)"
      ],
      "metadata": {
        "colab": {
          "base_uri": "https://localhost:8080/"
        },
        "id": "P6dzdniIaPhk",
        "outputId": "ed494d3b-66bf-407c-af69-39e31de365d1"
      },
      "execution_count": 38,
      "outputs": [
        {
          "output_type": "stream",
          "name": "stdout",
          "text": [
            "cat_wid   N   W\n",
            "cat_len        \n",
            "L        38  23\n",
            "M        33  24\n",
            "S        12  20 \n",
            "\n",
            "Chi2ContingencyResult(statistic=np.float64(5.465091147689933), pvalue=np.float64(0.06505348027971855), dof=2, expected_freq=array([[33.75333333, 27.24666667],\n",
            "       [31.54      , 25.46      ],\n",
            "       [17.70666667, 14.29333333]]))\n"
          ]
        }
      ]
    },
    {
      "cell_type": "code",
      "source": [
        "from sklearn.datasets import load_diabetes\n",
        "diabetes = load_diabetes()\n",
        "df_diabetes = pd.DataFrame(data=diabetes.data, columns=diabetes.feature_names)\n",
        "df_diabetes['target'] = diabetes.target\n",
        "\n",
        "corr = df_diabetes.corr()\n",
        "print(corr)"
      ],
      "metadata": {
        "colab": {
          "base_uri": "https://localhost:8080/"
        },
        "id": "TjSzk5lN1cnY",
        "outputId": "a8627ddd-014f-4e18-b4ce-776c83c59031"
      },
      "execution_count": 39,
      "outputs": [
        {
          "output_type": "stream",
          "name": "stdout",
          "text": [
            "             age       sex       bmi        bp        s1        s2        s3  \\\n",
            "age     1.000000  0.173737  0.185085  0.335428  0.260061  0.219243 -0.075181   \n",
            "sex     0.173737  1.000000  0.088161  0.241010  0.035277  0.142637 -0.379090   \n",
            "bmi     0.185085  0.088161  1.000000  0.395411  0.249777  0.261170 -0.366811   \n",
            "bp      0.335428  0.241010  0.395411  1.000000  0.242464  0.185548 -0.178762   \n",
            "s1      0.260061  0.035277  0.249777  0.242464  1.000000  0.896663  0.051519   \n",
            "s2      0.219243  0.142637  0.261170  0.185548  0.896663  1.000000 -0.196455   \n",
            "s3     -0.075181 -0.379090 -0.366811 -0.178762  0.051519 -0.196455  1.000000   \n",
            "s4      0.203841  0.332115  0.413807  0.257650  0.542207  0.659817 -0.738493   \n",
            "s5      0.270774  0.149916  0.446157  0.393480  0.515503  0.318357 -0.398577   \n",
            "s6      0.301731  0.208133  0.388680  0.390430  0.325717  0.290600 -0.273697   \n",
            "target  0.187889  0.043062  0.586450  0.441482  0.212022  0.174054 -0.394789   \n",
            "\n",
            "              s4        s5        s6    target  \n",
            "age     0.203841  0.270774  0.301731  0.187889  \n",
            "sex     0.332115  0.149916  0.208133  0.043062  \n",
            "bmi     0.413807  0.446157  0.388680  0.586450  \n",
            "bp      0.257650  0.393480  0.390430  0.441482  \n",
            "s1      0.542207  0.515503  0.325717  0.212022  \n",
            "s2      0.659817  0.318357  0.290600  0.174054  \n",
            "s3     -0.738493 -0.398577 -0.273697 -0.394789  \n",
            "s4      1.000000  0.617859  0.417212  0.430453  \n",
            "s5      0.617859  1.000000  0.464669  0.565883  \n",
            "s6      0.417212  0.464669  1.000000  0.382483  \n",
            "target  0.430453  0.565883  0.382483  1.000000  \n"
          ]
        }
      ]
    },
    {
      "cell_type": "code",
      "source": [
        "from scipy.stats import pearsonr\n",
        "# pearsonr(df['a'], df['b'])\n",
        "\n",
        "def pearson(df, comparelist, target) :\n",
        "  for i in comparelist :\n",
        "    x = df[i]\n",
        "    y = df[target]\n",
        "\n",
        "    result = pearsonr(x,y)\n",
        "    print(f\"{target} w/ {i} : {result}\")"
      ],
      "metadata": {
        "id": "-aiIcrtx1-QI"
      },
      "execution_count": 40,
      "outputs": []
    },
    {
      "cell_type": "code",
      "source": [
        "print(pearson(df_diabetes, ['bmi','sex'], 'target'))"
      ],
      "metadata": {
        "colab": {
          "base_uri": "https://localhost:8080/"
        },
        "id": "wfxnvCHA2djo",
        "outputId": "6349f888-5d2e-433f-da1c-642841fbf657"
      },
      "execution_count": 41,
      "outputs": [
        {
          "output_type": "stream",
          "name": "stdout",
          "text": [
            "target w/ bmi : PearsonRResult(statistic=np.float64(0.5864501344746886), pvalue=np.float64(3.4660064451673014e-42))\n",
            "target w/ sex : PearsonRResult(statistic=np.float64(0.04306199845160541), pvalue=np.float64(0.3664292946519808))\n",
            "None\n"
          ]
        }
      ]
    },
    {
      "cell_type": "code",
      "source": [
        "from sklearn.datasets import load_wine\n",
        "lw = load_wine()\n",
        "df_lw = pd.DataFrame(data=lw.data, columns=lw.feature_names)\n",
        "df_lw['target'] = lw.target\n",
        "print(df_lw.head(3))"
      ],
      "metadata": {
        "colab": {
          "base_uri": "https://localhost:8080/"
        },
        "id": "IOuqZLvNjHcj",
        "outputId": "a9f61704-c3f9-4324-e2f2-d38305ea09e4"
      },
      "execution_count": 42,
      "outputs": [
        {
          "output_type": "stream",
          "name": "stdout",
          "text": [
            "   alcohol  malic_acid   ash  alcalinity_of_ash  magnesium  total_phenols  \\\n",
            "0    14.23        1.71  2.43               15.6      127.0           2.80   \n",
            "1    13.20        1.78  2.14               11.2      100.0           2.65   \n",
            "2    13.16        2.36  2.67               18.6      101.0           2.80   \n",
            "\n",
            "   flavanoids  nonflavanoid_phenols  proanthocyanins  color_intensity   hue  \\\n",
            "0        3.06                  0.28             2.29             5.64  1.04   \n",
            "1        2.76                  0.26             1.28             4.38  1.05   \n",
            "2        3.24                  0.30             2.81             5.68  1.03   \n",
            "\n",
            "   od280/od315_of_diluted_wines  proline  target  \n",
            "0                          3.92   1065.0       0  \n",
            "1                          3.40   1050.0       0  \n",
            "2                          3.17   1185.0       0  \n"
          ]
        }
      ]
    },
    {
      "cell_type": "markdown",
      "source": [
        "- RandomForest Regressor"
      ],
      "metadata": {
        "id": "TLITCzfijHjI"
      }
    },
    {
      "cell_type": "code",
      "source": [
        "from sklearn.ensemble import RandomForestRegressor\n",
        "from sklearn.preprocessing import MinMaxScaler\n",
        "from sklearn.model_selection import train_test_split\n",
        "from sklearn.metrics import mean_squared_error, r2_score\n",
        "\n",
        "df = df_diabetes.copy()\n",
        "\n",
        "X = df.drop(columns=['target'])\n",
        "y = df['target']\n",
        "\n",
        "X_train,X_test,y_train,y_test = train_test_split(X,y,test_size=0.2,random_state=0)\n",
        "\n",
        "#md = RandomForestRegressor(n_estimators=100, max_depth=4)\n",
        "md = RandomForestRegressor(random_state=0)\n",
        "\n",
        "md.fit(X_train, y_train)\n",
        "y_pred = md.predict(X_test)\n",
        "\n",
        "mse =  mean_squared_error(y_test, y_pred)\n",
        "rmse = mse**0.5\n",
        "r2_score = r2_score(y_test, y_pred)\n",
        "\n",
        "print(mse)\n",
        "print(rmse)\n",
        "print(r2_score)"
      ],
      "metadata": {
        "colab": {
          "base_uri": "https://localhost:8080/"
        },
        "id": "TuZYxMb3wd-1",
        "outputId": "4d6dfc2c-dfe9-45bf-bf23-cdd830e6461a"
      },
      "execution_count": 43,
      "outputs": [
        {
          "output_type": "stream",
          "name": "stdout",
          "text": [
            "3750.300122471911\n",
            "61.23969401027336\n",
            "0.26865181564422547\n"
          ]
        }
      ]
    },
    {
      "cell_type": "markdown",
      "source": [
        "- RandomForestClassifier"
      ],
      "metadata": {
        "id": "EdbMEsuhweKX"
      }
    },
    {
      "cell_type": "code",
      "source": [
        "from sklearn.ensemble import RandomForestClassifier\n",
        "from sklearn.preprocessing import LabelEncoder, MinMaxScaler, StandardScaler\n",
        "from sklearn.model_selection import train_test_split\n",
        "from sklearn.metrics import confusion_matrix, accuracy_score, recall_score, precision_score, f1_score, roc_auc_score\n",
        "\n",
        "df = df_lw.copy()\n",
        "\n",
        "X = df.drop(columns='target')\n",
        "y = df['target']\n",
        "\n",
        "X_train,X_test,y_train,y_test = train_test_split(X,y,test_size=0.2,random_state=0)\n",
        "\n",
        "md = RandomForestClassifier(random_state=0)\n",
        "md.fit(X_train,y_train)\n",
        "\n",
        "y_pred = md.predict(X_test)\n",
        "cm = confusion_matrix(y_test, y_pred)\n",
        "\n",
        "print(cm)\n",
        "print(accuracy_score(y_test, y_pred))"
      ],
      "metadata": {
        "colab": {
          "base_uri": "https://localhost:8080/"
        },
        "id": "gzbOUsxXwePk",
        "outputId": "098bab9b-a6eb-4854-9d4d-b2e0ec136a9a"
      },
      "execution_count": 44,
      "outputs": [
        {
          "output_type": "stream",
          "name": "stdout",
          "text": [
            "[[14  0  0]\n",
            " [ 0 15  1]\n",
            " [ 0  0  6]]\n",
            "0.9722222222222222\n"
          ]
        }
      ]
    },
    {
      "cell_type": "markdown",
      "source": [
        "### (2 Class) Classifier w/ roc_auc_score evaluation"
      ],
      "metadata": {
        "id": "ToGDGGjcv8Wb"
      }
    },
    {
      "cell_type": "code",
      "source": [
        "df = df_lw.copy()\n",
        "df = df[df.target != 2]\n",
        "df.target.value_counts()"
      ],
      "metadata": {
        "colab": {
          "base_uri": "https://localhost:8080/",
          "height": 178
        },
        "id": "cBnjvvb3vlOA",
        "outputId": "7e06a3ab-0fa4-4a5f-9aa1-8e0c94a2f396"
      },
      "execution_count": 45,
      "outputs": [
        {
          "output_type": "execute_result",
          "data": {
            "text/plain": [
              "target\n",
              "1    71\n",
              "0    59\n",
              "Name: count, dtype: int64"
            ],
            "text/html": [
              "<div>\n",
              "<style scoped>\n",
              "    .dataframe tbody tr th:only-of-type {\n",
              "        vertical-align: middle;\n",
              "    }\n",
              "\n",
              "    .dataframe tbody tr th {\n",
              "        vertical-align: top;\n",
              "    }\n",
              "\n",
              "    .dataframe thead th {\n",
              "        text-align: right;\n",
              "    }\n",
              "</style>\n",
              "<table border=\"1\" class=\"dataframe\">\n",
              "  <thead>\n",
              "    <tr style=\"text-align: right;\">\n",
              "      <th></th>\n",
              "      <th>count</th>\n",
              "    </tr>\n",
              "    <tr>\n",
              "      <th>target</th>\n",
              "      <th></th>\n",
              "    </tr>\n",
              "  </thead>\n",
              "  <tbody>\n",
              "    <tr>\n",
              "      <th>1</th>\n",
              "      <td>71</td>\n",
              "    </tr>\n",
              "    <tr>\n",
              "      <th>0</th>\n",
              "      <td>59</td>\n",
              "    </tr>\n",
              "  </tbody>\n",
              "</table>\n",
              "</div><br><label><b>dtype:</b> int64</label>"
            ]
          },
          "metadata": {},
          "execution_count": 45
        }
      ]
    },
    {
      "cell_type": "code",
      "source": [
        "from sklearn.ensemble import RandomForestClassifier\n",
        "#from sklearn.preprocessing import LabelEncoder, MinMaxScaler, StandardScaler\n",
        "from sklearn.model_selection import train_test_split\n",
        "from sklearn.metrics import confusion_matrix, roc_auc_score\n",
        "\n",
        "X = df.drop(columns='target')\n",
        "y = df['target']\n",
        "\n",
        "X_train,X_test,y_train,y_test = train_test_split(X,y,test_size=0.2,random_state=0)\n",
        "\n",
        "md = RandomForestClassifier(random_state=0)\n",
        "md.fit(X_train,y_train)\n",
        "\n",
        "#y_pred = md.predict(X_test)\n",
        "y_pred_proba = md.predict_proba(X_test)\n",
        "\n",
        "#cm = confusion_matrix(y_test, y_pred_proba[:,1])\n",
        "#print(cm)\n",
        "\n",
        "roc_auc_score = roc_auc_score(y_test, y_pred_proba[:,1])\n",
        "print(roc_auc_score)"
      ],
      "metadata": {
        "colab": {
          "base_uri": "https://localhost:8080/"
        },
        "id": "pqV34snov7aA",
        "outputId": "9e90703a-239f-46fc-d7e6-06c6db4080f9"
      },
      "execution_count": 46,
      "outputs": [
        {
          "output_type": "stream",
          "name": "stdout",
          "text": [
            "1.0\n"
          ]
        }
      ]
    },
    {
      "cell_type": "code",
      "source": [
        "print(y_test)\n",
        "print(y_pred_proba[:,1])"
      ],
      "metadata": {
        "colab": {
          "base_uri": "https://localhost:8080/"
        },
        "id": "DO7iJbkJxKRG",
        "outputId": "6fb1800b-70fd-4d7e-e4a2-f5df9c954d81"
      },
      "execution_count": 47,
      "outputs": [
        {
          "output_type": "stream",
          "name": "stdout",
          "text": [
            "8      0\n",
            "59     1\n",
            "92     1\n",
            "104    1\n",
            "97     1\n",
            "30     0\n",
            "44     0\n",
            "33     0\n",
            "63     1\n",
            "26     0\n",
            "73     1\n",
            "7      0\n",
            "22     0\n",
            "105    1\n",
            "10     0\n",
            "48     0\n",
            "125    1\n",
            "90     1\n",
            "2      0\n",
            "93     1\n",
            "52     0\n",
            "96     1\n",
            "24     0\n",
            "51     0\n",
            "50     0\n",
            "40     0\n",
            "Name: target, dtype: int64\n",
            "[0.   0.99 1.   0.97 0.95 0.05 0.15 0.03 0.97 0.06 0.36 0.   0.1  0.99\n",
            " 0.03 0.02 0.98 1.   0.03 0.96 0.01 0.96 0.25 0.07 0.22 0.02]\n"
          ]
        }
      ]
    },
    {
      "cell_type": "code",
      "source": [
        "print(y_test.tolist())\n",
        "print(y_pred.tolist())"
      ],
      "metadata": {
        "colab": {
          "base_uri": "https://localhost:8080/"
        },
        "id": "wxe9oUK4fAlg",
        "outputId": "46c9a864-8a23-41e6-b3ea-9bf198667083"
      },
      "execution_count": 48,
      "outputs": [
        {
          "output_type": "stream",
          "name": "stdout",
          "text": [
            "[0, 1, 1, 1, 1, 0, 0, 0, 1, 0, 1, 0, 0, 1, 0, 0, 1, 1, 0, 1, 0, 1, 0, 0, 0, 0]\n",
            "[0, 2, 1, 0, 1, 1, 0, 2, 1, 1, 2, 2, 0, 1, 2, 1, 0, 0, 2, 0, 1, 0, 0, 1, 1, 1, 1, 1, 1, 2, 0, 0, 1, 0, 0, 0]\n"
          ]
        }
      ]
    },
    {
      "cell_type": "code",
      "source": [
        "y_predscore = md.predict_proba(X_test)\n",
        "print(y_predscore[:5])\n",
        "print(np.argmax(y_predscore, axis=1))\n",
        "print(np.max(y_predscore, axis=1))"
      ],
      "metadata": {
        "colab": {
          "base_uri": "https://localhost:8080/"
        },
        "id": "geZizzA0fwFb",
        "outputId": "6363eb74-0226-4997-9fd9-4f57e45253a3"
      },
      "execution_count": 49,
      "outputs": [
        {
          "output_type": "stream",
          "name": "stdout",
          "text": [
            "[[1.   0.  ]\n",
            " [0.01 0.99]\n",
            " [0.   1.  ]\n",
            " [0.03 0.97]\n",
            " [0.05 0.95]]\n",
            "[0 1 1 1 1 0 0 0 1 0 0 0 0 1 0 0 1 1 0 1 0 1 0 0 0 0]\n",
            "[1.   0.99 1.   0.97 0.95 0.95 0.85 0.97 0.97 0.94 0.64 1.   0.9  0.99\n",
            " 0.97 0.98 0.98 1.   0.97 0.96 0.99 0.96 0.75 0.93 0.78 0.98]\n"
          ]
        }
      ]
    },
    {
      "cell_type": "markdown",
      "source": [
        "- statsmodels.api regression and odds ratio"
      ],
      "metadata": {
        "id": "N5Bv269CjHs-"
      }
    },
    {
      "cell_type": "code",
      "source": [
        "from statsmodels.formula.api import ols, logit\n",
        "\n",
        "#from sklearn.datasets import load_iris\n",
        "iris = load_iris()\n",
        "df = pd.DataFrame(data=iris.data, columns=iris.feature_names)\n",
        "df['target'] = iris.target\n",
        "df.columns = ['sepall','sepalw','petall','petalw','target']\n",
        "print(df.columns.tolist())\n",
        "print(df.head(), \"\\n\")\n",
        "\n",
        "formula = 'target~sepall+sepalw+petall+petalw'\n",
        "\n",
        "md = ols(formula=formula, data=df).fit()\n",
        "print(md.summary())"
      ],
      "metadata": {
        "id": "QThuguO_v-AX",
        "colab": {
          "base_uri": "https://localhost:8080/"
        },
        "outputId": "59492a64-6601-4961-ccb7-19d402b09547"
      },
      "execution_count": 50,
      "outputs": [
        {
          "output_type": "stream",
          "name": "stdout",
          "text": [
            "['sepall', 'sepalw', 'petall', 'petalw', 'target']\n",
            "   sepall  sepalw  petall  petalw  target\n",
            "0     5.1     3.5     1.4     0.2       0\n",
            "1     4.9     3.0     1.4     0.2       0\n",
            "2     4.7     3.2     1.3     0.2       0\n",
            "3     4.6     3.1     1.5     0.2       0\n",
            "4     5.0     3.6     1.4     0.2       0 \n",
            "\n",
            "                            OLS Regression Results                            \n",
            "==============================================================================\n",
            "Dep. Variable:                 target   R-squared:                       0.930\n",
            "Model:                            OLS   Adj. R-squared:                  0.928\n",
            "Method:                 Least Squares   F-statistic:                     484.5\n",
            "Date:                Fri, 20 Jun 2025   Prob (F-statistic):           8.46e-83\n",
            "Time:                        14:05:53   Log-Likelihood:                 17.437\n",
            "No. Observations:                 150   AIC:                            -24.87\n",
            "Df Residuals:                     145   BIC:                            -9.821\n",
            "Df Model:                           4                                         \n",
            "Covariance Type:            nonrobust                                         \n",
            "==============================================================================\n",
            "                 coef    std err          t      P>|t|      [0.025      0.975]\n",
            "------------------------------------------------------------------------------\n",
            "Intercept      0.1865      0.205      0.910      0.364      -0.218       0.591\n",
            "sepall        -0.1119      0.058     -1.941      0.054      -0.226       0.002\n",
            "sepalw        -0.0401      0.060     -0.671      0.503      -0.158       0.078\n",
            "petall         0.2286      0.057      4.022      0.000       0.116       0.341\n",
            "petalw         0.6093      0.094      6.450      0.000       0.423       0.796\n",
            "==============================================================================\n",
            "Omnibus:                        0.374   Durbin-Watson:                   1.077\n",
            "Prob(Omnibus):                  0.829   Jarque-Bera (JB):                0.141\n",
            "Skew:                          -0.051   Prob(JB):                        0.932\n",
            "Kurtosis:                       3.110   Cond. No.                         91.9\n",
            "==============================================================================\n",
            "\n",
            "Notes:\n",
            "[1] Standard Errors assume that the covariance matrix of the errors is correctly specified.\n"
          ]
        }
      ]
    },
    {
      "cell_type": "code",
      "source": [
        "df['target1'] = [1 if x>1 else 0 for x in df['target']]\n",
        "df1 = df.drop(columns=['target'])\n",
        "\n",
        "formula1 = 'target1~sepall+sepalw+petall+petalw'\n",
        "\n",
        "md = logit(formula1, data=df1).fit()\n",
        "print(md.summary())"
      ],
      "metadata": {
        "colab": {
          "base_uri": "https://localhost:8080/"
        },
        "id": "JAQ_iutmEB8c",
        "outputId": "a479a0a5-6a1b-4019-b1ea-baca774734e5"
      },
      "execution_count": 51,
      "outputs": [
        {
          "output_type": "stream",
          "name": "stdout",
          "text": [
            "Optimization terminated successfully.\n",
            "         Current function value: 0.039662\n",
            "         Iterations 14\n",
            "                           Logit Regression Results                           \n",
            "==============================================================================\n",
            "Dep. Variable:                target1   No. Observations:                  150\n",
            "Model:                          Logit   Df Residuals:                      145\n",
            "Method:                           MLE   Df Model:                            4\n",
            "Date:                Fri, 20 Jun 2025   Pseudo R-squ.:                  0.9377\n",
            "Time:                        14:05:53   Log-Likelihood:                -5.9493\n",
            "converged:                       True   LL-Null:                       -95.477\n",
            "Covariance Type:            nonrobust   LLR p-value:                 1.189e-37\n",
            "==============================================================================\n",
            "                 coef    std err          z      P>|z|      [0.025      0.975]\n",
            "------------------------------------------------------------------------------\n",
            "Intercept    -42.6378     25.708     -1.659      0.097     -93.024       7.748\n",
            "sepall        -2.4652      2.394     -1.030      0.303      -7.158       2.228\n",
            "sepalw        -6.6809      4.480     -1.491      0.136     -15.461       2.099\n",
            "petall         9.4294      4.737      1.990      0.047       0.145      18.714\n",
            "petalw        18.2861      9.743      1.877      0.061      -0.809      37.381\n",
            "==============================================================================\n",
            "\n",
            "Possibly complete quasi-separation: A fraction 0.73 of observations can be\n",
            "perfectly predicted. This might indicate that there is complete\n",
            "quasi-separation. In this case some parameters will not be identified.\n"
          ]
        }
      ]
    },
    {
      "cell_type": "code",
      "source": [
        "# 회귀계수 합계 구하기\n",
        "print(sum(md.params))"
      ],
      "metadata": {
        "colab": {
          "base_uri": "https://localhost:8080/"
        },
        "id": "Y8ah9HMQECCq",
        "outputId": "a534a63a-2a03-47ae-cf73-5a0b81159d80"
      },
      "execution_count": 52,
      "outputs": [
        {
          "output_type": "stream",
          "name": "stdout",
          "text": [
            "-24.068388980509535\n"
          ]
        }
      ]
    },
    {
      "cell_type": "code",
      "source": [
        "# 변수별 오즈비\n",
        "oddsr = np.exp(md.params)\n",
        "print(oddsr)\n",
        "\n",
        "print(\"\\n\")\n",
        "# 특정변수 5배 증가할 때 오즈비\n",
        "oddsr5_petalw = np.exp(md.params['petalw']*5)\n",
        "print(oddsr5_petalw)"
      ],
      "metadata": {
        "colab": {
          "base_uri": "https://localhost:8080/"
        },
        "id": "ltCnn8nZHV9f",
        "outputId": "28d4c5c0-fcba-493b-f728-a226b385e281"
      },
      "execution_count": 53,
      "outputs": [
        {
          "output_type": "stream",
          "name": "stdout",
          "text": [
            "Intercept    3.038345e-19\n",
            "sepall       8.499013e-02\n",
            "sepalw       1.254665e-03\n",
            "petall       1.244887e+04\n",
            "petalw       8.741145e+07\n",
            "dtype: float64\n",
            "\n",
            "\n",
            "5.103189888228025e+39\n"
          ]
        }
      ]
    },
    {
      "cell_type": "code",
      "source": [],
      "metadata": {
        "id": "9lVtT1HicAib"
      },
      "execution_count": 53,
      "outputs": []
    }
  ],
  "metadata": {
    "colab": {
      "provenance": [],
      "mount_file_id": "1f1e5r9cxd_RbJAYp3RYEs4sQXZzLbObP",
      "authorship_tag": "ABX9TyOorIltORRZ/F5nHXGXSMqr",
      "include_colab_link": true
    },
    "kernelspec": {
      "display_name": "Python 3",
      "name": "python3"
    },
    "language_info": {
      "name": "python"
    }
  },
  "nbformat": 4,
  "nbformat_minor": 0
}